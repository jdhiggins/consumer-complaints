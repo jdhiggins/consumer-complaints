{
 "cells": [
  {
   "cell_type": "code",
   "execution_count": 49,
   "metadata": {
    "collapsed": true
   },
   "outputs": [],
   "source": [
    "import pandas as pd\n",
    "import numpy as np\n",
    "import matplotlib.pyplot as plt\n",
    "import seaborn as sns"
   ]
  },
  {
   "cell_type": "code",
   "execution_count": 50,
   "metadata": {
    "collapsed": true
   },
   "outputs": [],
   "source": [
    "%matplotlib inline"
   ]
  },
  {
   "cell_type": "code",
   "execution_count": 158,
   "metadata": {
    "collapsed": false
   },
   "outputs": [],
   "source": [
    "complaints = pd.read_csv(\"Consumer_Complaints.csv\", dtype={'ZIP code': object,\n",
    "                                                           'Sub-issue': object})"
   ]
  },
  {
   "cell_type": "code",
   "execution_count": 159,
   "metadata": {
    "collapsed": false
   },
   "outputs": [
    {
     "data": {
      "text/html": [
       "<div style=\"max-height:1000px;max-width:1500px;overflow:auto;\">\n",
       "<table border=\"1\" class=\"dataframe\">\n",
       "  <thead>\n",
       "    <tr style=\"text-align: right;\">\n",
       "      <th></th>\n",
       "      <th>Complaint ID</th>\n",
       "      <th>Product</th>\n",
       "      <th>Sub-product</th>\n",
       "      <th>Issue</th>\n",
       "      <th>Sub-issue</th>\n",
       "      <th>State</th>\n",
       "      <th>ZIP code</th>\n",
       "      <th>Submitted via</th>\n",
       "      <th>Date received</th>\n",
       "      <th>Date sent to company</th>\n",
       "      <th>Company</th>\n",
       "      <th>Company response</th>\n",
       "      <th>Timely response?</th>\n",
       "      <th>Consumer disputed?</th>\n",
       "    </tr>\n",
       "  </thead>\n",
       "  <tbody>\n",
       "    <tr>\n",
       "      <th>0</th>\n",
       "      <td>1388734</td>\n",
       "      <td>Mortgage</td>\n",
       "      <td>Conventional adjustable mortgage (ARM)</td>\n",
       "      <td>Loan servicing, payments, escrow account</td>\n",
       "      <td>NaN</td>\n",
       "      <td>VA</td>\n",
       "      <td>22204</td>\n",
       "      <td>Web</td>\n",
       "      <td>05/22/2015</td>\n",
       "      <td>05/22/2015</td>\n",
       "      <td>Green Tree Servicing, LLC</td>\n",
       "      <td>Closed with explanation</td>\n",
       "      <td>Yes</td>\n",
       "      <td>NaN</td>\n",
       "    </tr>\n",
       "    <tr>\n",
       "      <th>1</th>\n",
       "      <td>1389303</td>\n",
       "      <td>Consumer loan</td>\n",
       "      <td>Vehicle loan</td>\n",
       "      <td>Taking out the loan or lease</td>\n",
       "      <td>NaN</td>\n",
       "      <td>MO</td>\n",
       "      <td>63304</td>\n",
       "      <td>Web</td>\n",
       "      <td>05/22/2015</td>\n",
       "      <td>05/22/2015</td>\n",
       "      <td>Ally Financial Inc.</td>\n",
       "      <td>In progress</td>\n",
       "      <td>Yes</td>\n",
       "      <td>NaN</td>\n",
       "    </tr>\n",
       "    <tr>\n",
       "      <th>2</th>\n",
       "      <td>1389676</td>\n",
       "      <td>Consumer loan</td>\n",
       "      <td>Vehicle lease</td>\n",
       "      <td>Problems when you are unable to pay</td>\n",
       "      <td>NaN</td>\n",
       "      <td>FL</td>\n",
       "      <td>33414</td>\n",
       "      <td>Web</td>\n",
       "      <td>05/22/2015</td>\n",
       "      <td>05/22/2015</td>\n",
       "      <td>Ally Financial Inc.</td>\n",
       "      <td>In progress</td>\n",
       "      <td>Yes</td>\n",
       "      <td>NaN</td>\n",
       "    </tr>\n",
       "    <tr>\n",
       "      <th>3</th>\n",
       "      <td>1388406</td>\n",
       "      <td>Mortgage</td>\n",
       "      <td>Conventional fixed mortgage</td>\n",
       "      <td>Loan servicing, payments, escrow account</td>\n",
       "      <td>NaN</td>\n",
       "      <td>NC</td>\n",
       "      <td>27615</td>\n",
       "      <td>Web</td>\n",
       "      <td>05/22/2015</td>\n",
       "      <td>05/22/2015</td>\n",
       "      <td>Navy FCU</td>\n",
       "      <td>In progress</td>\n",
       "      <td>Yes</td>\n",
       "      <td>NaN</td>\n",
       "    </tr>\n",
       "    <tr>\n",
       "      <th>4</th>\n",
       "      <td>1388470</td>\n",
       "      <td>Consumer loan</td>\n",
       "      <td>Installment loan</td>\n",
       "      <td>Managing the loan or lease</td>\n",
       "      <td>NaN</td>\n",
       "      <td>MA</td>\n",
       "      <td>01474</td>\n",
       "      <td>Phone</td>\n",
       "      <td>05/22/2015</td>\n",
       "      <td>05/22/2015</td>\n",
       "      <td>Santander Bank US</td>\n",
       "      <td>In progress</td>\n",
       "      <td>Yes</td>\n",
       "      <td>NaN</td>\n",
       "    </tr>\n",
       "  </tbody>\n",
       "</table>\n",
       "</div>"
      ],
      "text/plain": [
       "   Complaint ID        Product                             Sub-product  \\\n",
       "0       1388734       Mortgage  Conventional adjustable mortgage (ARM)   \n",
       "1       1389303  Consumer loan                            Vehicle loan   \n",
       "2       1389676  Consumer loan                           Vehicle lease   \n",
       "3       1388406       Mortgage             Conventional fixed mortgage   \n",
       "4       1388470  Consumer loan                        Installment loan   \n",
       "\n",
       "                                      Issue Sub-issue State ZIP code  \\\n",
       "0  Loan servicing, payments, escrow account       NaN    VA    22204   \n",
       "1              Taking out the loan or lease       NaN    MO    63304   \n",
       "2       Problems when you are unable to pay       NaN    FL    33414   \n",
       "3  Loan servicing, payments, escrow account       NaN    NC    27615   \n",
       "4                Managing the loan or lease       NaN    MA    01474   \n",
       "\n",
       "  Submitted via Date received Date sent to company                    Company  \\\n",
       "0           Web    05/22/2015           05/22/2015  Green Tree Servicing, LLC   \n",
       "1           Web    05/22/2015           05/22/2015        Ally Financial Inc.   \n",
       "2           Web    05/22/2015           05/22/2015        Ally Financial Inc.   \n",
       "3           Web    05/22/2015           05/22/2015                   Navy FCU   \n",
       "4         Phone    05/22/2015           05/22/2015          Santander Bank US   \n",
       "\n",
       "          Company response Timely response? Consumer disputed?  \n",
       "0  Closed with explanation              Yes                NaN  \n",
       "1              In progress              Yes                NaN  \n",
       "2              In progress              Yes                NaN  \n",
       "3              In progress              Yes                NaN  \n",
       "4              In progress              Yes                NaN  "
      ]
     },
     "execution_count": 159,
     "metadata": {},
     "output_type": "execute_result"
    }
   ],
   "source": [
    "complaints.head()"
   ]
  },
  {
   "cell_type": "code",
   "execution_count": 53,
   "metadata": {
    "collapsed": true
   },
   "outputs": [],
   "source": [
    "complaints = complaints.rename(columns=lambda x: x.replace(' ', '_'))"
   ]
  },
  {
   "cell_type": "code",
   "execution_count": 54,
   "metadata": {
    "collapsed": false
   },
   "outputs": [
    {
     "data": {
      "text/html": [
       "<div style=\"max-height:1000px;max-width:1500px;overflow:auto;\">\n",
       "<table border=\"1\" class=\"dataframe\">\n",
       "  <thead>\n",
       "    <tr style=\"text-align: right;\">\n",
       "      <th></th>\n",
       "      <th>Complaint_ID</th>\n",
       "      <th>Product</th>\n",
       "      <th>Sub-product</th>\n",
       "      <th>Issue</th>\n",
       "      <th>Sub-issue</th>\n",
       "      <th>State</th>\n",
       "      <th>ZIP_code</th>\n",
       "      <th>Submitted_via</th>\n",
       "      <th>Date_received</th>\n",
       "      <th>Date_sent_to_company</th>\n",
       "      <th>Company</th>\n",
       "      <th>Company_response</th>\n",
       "      <th>Timely_response?</th>\n",
       "      <th>Consumer_disputed?</th>\n",
       "    </tr>\n",
       "  </thead>\n",
       "  <tbody>\n",
       "    <tr>\n",
       "      <th>0</th>\n",
       "      <td>1388734</td>\n",
       "      <td>Mortgage</td>\n",
       "      <td>Conventional adjustable mortgage (ARM)</td>\n",
       "      <td>Loan servicing, payments, escrow account</td>\n",
       "      <td>NaN</td>\n",
       "      <td>VA</td>\n",
       "      <td>22204</td>\n",
       "      <td>Web</td>\n",
       "      <td>05/22/2015</td>\n",
       "      <td>05/22/2015</td>\n",
       "      <td>Green Tree Servicing, LLC</td>\n",
       "      <td>Closed with explanation</td>\n",
       "      <td>Yes</td>\n",
       "      <td>NaN</td>\n",
       "    </tr>\n",
       "    <tr>\n",
       "      <th>1</th>\n",
       "      <td>1389303</td>\n",
       "      <td>Consumer loan</td>\n",
       "      <td>Vehicle loan</td>\n",
       "      <td>Taking out the loan or lease</td>\n",
       "      <td>NaN</td>\n",
       "      <td>MO</td>\n",
       "      <td>63304</td>\n",
       "      <td>Web</td>\n",
       "      <td>05/22/2015</td>\n",
       "      <td>05/22/2015</td>\n",
       "      <td>Ally Financial Inc.</td>\n",
       "      <td>In progress</td>\n",
       "      <td>Yes</td>\n",
       "      <td>NaN</td>\n",
       "    </tr>\n",
       "    <tr>\n",
       "      <th>2</th>\n",
       "      <td>1389676</td>\n",
       "      <td>Consumer loan</td>\n",
       "      <td>Vehicle lease</td>\n",
       "      <td>Problems when you are unable to pay</td>\n",
       "      <td>NaN</td>\n",
       "      <td>FL</td>\n",
       "      <td>33414</td>\n",
       "      <td>Web</td>\n",
       "      <td>05/22/2015</td>\n",
       "      <td>05/22/2015</td>\n",
       "      <td>Ally Financial Inc.</td>\n",
       "      <td>In progress</td>\n",
       "      <td>Yes</td>\n",
       "      <td>NaN</td>\n",
       "    </tr>\n",
       "    <tr>\n",
       "      <th>3</th>\n",
       "      <td>1388406</td>\n",
       "      <td>Mortgage</td>\n",
       "      <td>Conventional fixed mortgage</td>\n",
       "      <td>Loan servicing, payments, escrow account</td>\n",
       "      <td>NaN</td>\n",
       "      <td>NC</td>\n",
       "      <td>27615</td>\n",
       "      <td>Web</td>\n",
       "      <td>05/22/2015</td>\n",
       "      <td>05/22/2015</td>\n",
       "      <td>Navy FCU</td>\n",
       "      <td>In progress</td>\n",
       "      <td>Yes</td>\n",
       "      <td>NaN</td>\n",
       "    </tr>\n",
       "    <tr>\n",
       "      <th>4</th>\n",
       "      <td>1388470</td>\n",
       "      <td>Consumer loan</td>\n",
       "      <td>Installment loan</td>\n",
       "      <td>Managing the loan or lease</td>\n",
       "      <td>NaN</td>\n",
       "      <td>MA</td>\n",
       "      <td>1474</td>\n",
       "      <td>Phone</td>\n",
       "      <td>05/22/2015</td>\n",
       "      <td>05/22/2015</td>\n",
       "      <td>Santander Bank US</td>\n",
       "      <td>In progress</td>\n",
       "      <td>Yes</td>\n",
       "      <td>NaN</td>\n",
       "    </tr>\n",
       "  </tbody>\n",
       "</table>\n",
       "</div>"
      ],
      "text/plain": [
       "   Complaint_ID        Product                             Sub-product  \\\n",
       "0       1388734       Mortgage  Conventional adjustable mortgage (ARM)   \n",
       "1       1389303  Consumer loan                            Vehicle loan   \n",
       "2       1389676  Consumer loan                           Vehicle lease   \n",
       "3       1388406       Mortgage             Conventional fixed mortgage   \n",
       "4       1388470  Consumer loan                        Installment loan   \n",
       "\n",
       "                                      Issue Sub-issue State  ZIP_code  \\\n",
       "0  Loan servicing, payments, escrow account       NaN    VA     22204   \n",
       "1              Taking out the loan or lease       NaN    MO     63304   \n",
       "2       Problems when you are unable to pay       NaN    FL     33414   \n",
       "3  Loan servicing, payments, escrow account       NaN    NC     27615   \n",
       "4                Managing the loan or lease       NaN    MA      1474   \n",
       "\n",
       "  Submitted_via Date_received Date_sent_to_company                    Company  \\\n",
       "0           Web    05/22/2015           05/22/2015  Green Tree Servicing, LLC   \n",
       "1           Web    05/22/2015           05/22/2015        Ally Financial Inc.   \n",
       "2           Web    05/22/2015           05/22/2015        Ally Financial Inc.   \n",
       "3           Web    05/22/2015           05/22/2015                   Navy FCU   \n",
       "4         Phone    05/22/2015           05/22/2015          Santander Bank US   \n",
       "\n",
       "          Company_response Timely_response? Consumer_disputed?  \n",
       "0  Closed with explanation              Yes                NaN  \n",
       "1              In progress              Yes                NaN  \n",
       "2              In progress              Yes                NaN  \n",
       "3              In progress              Yes                NaN  \n",
       "4              In progress              Yes                NaN  "
      ]
     },
     "execution_count": 54,
     "metadata": {},
     "output_type": "execute_result"
    }
   ],
   "source": [
    "complaints.head()"
   ]
  },
  {
   "cell_type": "code",
   "execution_count": 55,
   "metadata": {
    "collapsed": false
   },
   "outputs": [
    {
     "name": "stdout",
     "output_type": "stream",
     "text": [
      "<class 'pandas.core.frame.DataFrame'>\n",
      "Int64Index: 395853 entries, 0 to 395852\n",
      "Data columns (total 14 columns):\n",
      "Complaint_ID            395853 non-null int64\n",
      "Product                 395853 non-null object\n",
      "Sub-product             271830 non-null object\n",
      "Issue                   395847 non-null object\n",
      "Sub-issue               122938 non-null object\n",
      "State                   390362 non-null object\n",
      "ZIP_code                391368 non-null float64\n",
      "Submitted_via           395853 non-null object\n",
      "Date_received           395853 non-null object\n",
      "Date_sent_to_company    395853 non-null object\n",
      "Company                 395853 non-null object\n",
      "Company_response        395853 non-null object\n",
      "Timely_response?        395853 non-null object\n",
      "Consumer_disputed?      364266 non-null object\n",
      "dtypes: float64(1), int64(1), object(12)\n",
      "memory usage: 45.3+ MB\n"
     ]
    }
   ],
   "source": [
    "complaints.info()"
   ]
  },
  {
   "cell_type": "code",
   "execution_count": 56,
   "metadata": {
    "collapsed": false
   },
   "outputs": [],
   "source": [
    "complaints.index = pd.to_datetime(complaints.pop('Date_received'), format=\"%m/%d/%Y\")"
   ]
  },
  {
   "cell_type": "code",
   "execution_count": 57,
   "metadata": {
    "collapsed": false
   },
   "outputs": [
    {
     "data": {
      "text/html": [
       "<div style=\"max-height:1000px;max-width:1500px;overflow:auto;\">\n",
       "<table border=\"1\" class=\"dataframe\">\n",
       "  <thead>\n",
       "    <tr style=\"text-align: right;\">\n",
       "      <th></th>\n",
       "      <th>Complaint_ID</th>\n",
       "      <th>Product</th>\n",
       "      <th>Sub-product</th>\n",
       "      <th>Issue</th>\n",
       "      <th>Sub-issue</th>\n",
       "      <th>State</th>\n",
       "      <th>ZIP_code</th>\n",
       "      <th>Submitted_via</th>\n",
       "      <th>Date_sent_to_company</th>\n",
       "      <th>Company</th>\n",
       "      <th>Company_response</th>\n",
       "      <th>Timely_response?</th>\n",
       "      <th>Consumer_disputed?</th>\n",
       "    </tr>\n",
       "    <tr>\n",
       "      <th>Date_received</th>\n",
       "      <th></th>\n",
       "      <th></th>\n",
       "      <th></th>\n",
       "      <th></th>\n",
       "      <th></th>\n",
       "      <th></th>\n",
       "      <th></th>\n",
       "      <th></th>\n",
       "      <th></th>\n",
       "      <th></th>\n",
       "      <th></th>\n",
       "      <th></th>\n",
       "      <th></th>\n",
       "    </tr>\n",
       "  </thead>\n",
       "  <tbody>\n",
       "    <tr>\n",
       "      <th>2015-05-22</th>\n",
       "      <td>1388734</td>\n",
       "      <td>Mortgage</td>\n",
       "      <td>Conventional adjustable mortgage (ARM)</td>\n",
       "      <td>Loan servicing, payments, escrow account</td>\n",
       "      <td>NaN</td>\n",
       "      <td>VA</td>\n",
       "      <td>22204</td>\n",
       "      <td>Web</td>\n",
       "      <td>05/22/2015</td>\n",
       "      <td>Green Tree Servicing, LLC</td>\n",
       "      <td>Closed with explanation</td>\n",
       "      <td>Yes</td>\n",
       "      <td>NaN</td>\n",
       "    </tr>\n",
       "    <tr>\n",
       "      <th>2015-05-22</th>\n",
       "      <td>1389303</td>\n",
       "      <td>Consumer loan</td>\n",
       "      <td>Vehicle loan</td>\n",
       "      <td>Taking out the loan or lease</td>\n",
       "      <td>NaN</td>\n",
       "      <td>MO</td>\n",
       "      <td>63304</td>\n",
       "      <td>Web</td>\n",
       "      <td>05/22/2015</td>\n",
       "      <td>Ally Financial Inc.</td>\n",
       "      <td>In progress</td>\n",
       "      <td>Yes</td>\n",
       "      <td>NaN</td>\n",
       "    </tr>\n",
       "    <tr>\n",
       "      <th>2015-05-22</th>\n",
       "      <td>1389676</td>\n",
       "      <td>Consumer loan</td>\n",
       "      <td>Vehicle lease</td>\n",
       "      <td>Problems when you are unable to pay</td>\n",
       "      <td>NaN</td>\n",
       "      <td>FL</td>\n",
       "      <td>33414</td>\n",
       "      <td>Web</td>\n",
       "      <td>05/22/2015</td>\n",
       "      <td>Ally Financial Inc.</td>\n",
       "      <td>In progress</td>\n",
       "      <td>Yes</td>\n",
       "      <td>NaN</td>\n",
       "    </tr>\n",
       "    <tr>\n",
       "      <th>2015-05-22</th>\n",
       "      <td>1388406</td>\n",
       "      <td>Mortgage</td>\n",
       "      <td>Conventional fixed mortgage</td>\n",
       "      <td>Loan servicing, payments, escrow account</td>\n",
       "      <td>NaN</td>\n",
       "      <td>NC</td>\n",
       "      <td>27615</td>\n",
       "      <td>Web</td>\n",
       "      <td>05/22/2015</td>\n",
       "      <td>Navy FCU</td>\n",
       "      <td>In progress</td>\n",
       "      <td>Yes</td>\n",
       "      <td>NaN</td>\n",
       "    </tr>\n",
       "    <tr>\n",
       "      <th>2015-05-22</th>\n",
       "      <td>1388470</td>\n",
       "      <td>Consumer loan</td>\n",
       "      <td>Installment loan</td>\n",
       "      <td>Managing the loan or lease</td>\n",
       "      <td>NaN</td>\n",
       "      <td>MA</td>\n",
       "      <td>1474</td>\n",
       "      <td>Phone</td>\n",
       "      <td>05/22/2015</td>\n",
       "      <td>Santander Bank US</td>\n",
       "      <td>In progress</td>\n",
       "      <td>Yes</td>\n",
       "      <td>NaN</td>\n",
       "    </tr>\n",
       "  </tbody>\n",
       "</table>\n",
       "</div>"
      ],
      "text/plain": [
       "               Complaint_ID        Product  \\\n",
       "Date_received                                \n",
       "2015-05-22          1388734       Mortgage   \n",
       "2015-05-22          1389303  Consumer loan   \n",
       "2015-05-22          1389676  Consumer loan   \n",
       "2015-05-22          1388406       Mortgage   \n",
       "2015-05-22          1388470  Consumer loan   \n",
       "\n",
       "                                          Sub-product  \\\n",
       "Date_received                                           \n",
       "2015-05-22     Conventional adjustable mortgage (ARM)   \n",
       "2015-05-22                               Vehicle loan   \n",
       "2015-05-22                              Vehicle lease   \n",
       "2015-05-22                Conventional fixed mortgage   \n",
       "2015-05-22                           Installment loan   \n",
       "\n",
       "                                                  Issue Sub-issue State  \\\n",
       "Date_received                                                             \n",
       "2015-05-22     Loan servicing, payments, escrow account       NaN    VA   \n",
       "2015-05-22                 Taking out the loan or lease       NaN    MO   \n",
       "2015-05-22          Problems when you are unable to pay       NaN    FL   \n",
       "2015-05-22     Loan servicing, payments, escrow account       NaN    NC   \n",
       "2015-05-22                   Managing the loan or lease       NaN    MA   \n",
       "\n",
       "               ZIP_code Submitted_via Date_sent_to_company  \\\n",
       "Date_received                                                \n",
       "2015-05-22        22204           Web           05/22/2015   \n",
       "2015-05-22        63304           Web           05/22/2015   \n",
       "2015-05-22        33414           Web           05/22/2015   \n",
       "2015-05-22        27615           Web           05/22/2015   \n",
       "2015-05-22         1474         Phone           05/22/2015   \n",
       "\n",
       "                                 Company         Company_response  \\\n",
       "Date_received                                                       \n",
       "2015-05-22     Green Tree Servicing, LLC  Closed with explanation   \n",
       "2015-05-22           Ally Financial Inc.              In progress   \n",
       "2015-05-22           Ally Financial Inc.              In progress   \n",
       "2015-05-22                      Navy FCU              In progress   \n",
       "2015-05-22             Santander Bank US              In progress   \n",
       "\n",
       "              Timely_response? Consumer_disputed?  \n",
       "Date_received                                      \n",
       "2015-05-22                 Yes                NaN  \n",
       "2015-05-22                 Yes                NaN  \n",
       "2015-05-22                 Yes                NaN  \n",
       "2015-05-22                 Yes                NaN  \n",
       "2015-05-22                 Yes                NaN  "
      ]
     },
     "execution_count": 57,
     "metadata": {},
     "output_type": "execute_result"
    }
   ],
   "source": [
    "complaints.head()"
   ]
  },
  {
   "cell_type": "code",
   "execution_count": 59,
   "metadata": {
    "collapsed": false
   },
   "outputs": [],
   "source": [
    "complaints_data = complaints[['Product', 'Sub-product', 'State', 'ZIP_code', 'Company', \\\n",
    "                             'Company_response', 'Timely_response?']]"
   ]
  },
  {
   "cell_type": "code",
   "execution_count": 60,
   "metadata": {
    "collapsed": false
   },
   "outputs": [
    {
     "data": {
      "text/html": [
       "<div style=\"max-height:1000px;max-width:1500px;overflow:auto;\">\n",
       "<table border=\"1\" class=\"dataframe\">\n",
       "  <thead>\n",
       "    <tr style=\"text-align: right;\">\n",
       "      <th></th>\n",
       "      <th>Product</th>\n",
       "      <th>Sub-product</th>\n",
       "      <th>State</th>\n",
       "      <th>ZIP_code</th>\n",
       "      <th>Company</th>\n",
       "      <th>Company_response</th>\n",
       "      <th>Timely_response?</th>\n",
       "    </tr>\n",
       "    <tr>\n",
       "      <th>Date_received</th>\n",
       "      <th></th>\n",
       "      <th></th>\n",
       "      <th></th>\n",
       "      <th></th>\n",
       "      <th></th>\n",
       "      <th></th>\n",
       "      <th></th>\n",
       "    </tr>\n",
       "  </thead>\n",
       "  <tbody>\n",
       "    <tr>\n",
       "      <th>2015-05-22</th>\n",
       "      <td>Mortgage</td>\n",
       "      <td>Conventional adjustable mortgage (ARM)</td>\n",
       "      <td>VA</td>\n",
       "      <td>22204</td>\n",
       "      <td>Green Tree Servicing, LLC</td>\n",
       "      <td>Closed with explanation</td>\n",
       "      <td>Yes</td>\n",
       "    </tr>\n",
       "    <tr>\n",
       "      <th>2015-05-22</th>\n",
       "      <td>Consumer loan</td>\n",
       "      <td>Vehicle loan</td>\n",
       "      <td>MO</td>\n",
       "      <td>63304</td>\n",
       "      <td>Ally Financial Inc.</td>\n",
       "      <td>In progress</td>\n",
       "      <td>Yes</td>\n",
       "    </tr>\n",
       "    <tr>\n",
       "      <th>2015-05-22</th>\n",
       "      <td>Consumer loan</td>\n",
       "      <td>Vehicle lease</td>\n",
       "      <td>FL</td>\n",
       "      <td>33414</td>\n",
       "      <td>Ally Financial Inc.</td>\n",
       "      <td>In progress</td>\n",
       "      <td>Yes</td>\n",
       "    </tr>\n",
       "    <tr>\n",
       "      <th>2015-05-22</th>\n",
       "      <td>Mortgage</td>\n",
       "      <td>Conventional fixed mortgage</td>\n",
       "      <td>NC</td>\n",
       "      <td>27615</td>\n",
       "      <td>Navy FCU</td>\n",
       "      <td>In progress</td>\n",
       "      <td>Yes</td>\n",
       "    </tr>\n",
       "    <tr>\n",
       "      <th>2015-05-22</th>\n",
       "      <td>Consumer loan</td>\n",
       "      <td>Installment loan</td>\n",
       "      <td>MA</td>\n",
       "      <td>1474</td>\n",
       "      <td>Santander Bank US</td>\n",
       "      <td>In progress</td>\n",
       "      <td>Yes</td>\n",
       "    </tr>\n",
       "  </tbody>\n",
       "</table>\n",
       "</div>"
      ],
      "text/plain": [
       "                     Product                             Sub-product State  \\\n",
       "Date_received                                                                \n",
       "2015-05-22          Mortgage  Conventional adjustable mortgage (ARM)    VA   \n",
       "2015-05-22     Consumer loan                            Vehicle loan    MO   \n",
       "2015-05-22     Consumer loan                           Vehicle lease    FL   \n",
       "2015-05-22          Mortgage             Conventional fixed mortgage    NC   \n",
       "2015-05-22     Consumer loan                        Installment loan    MA   \n",
       "\n",
       "               ZIP_code                    Company         Company_response  \\\n",
       "Date_received                                                                 \n",
       "2015-05-22        22204  Green Tree Servicing, LLC  Closed with explanation   \n",
       "2015-05-22        63304        Ally Financial Inc.              In progress   \n",
       "2015-05-22        33414        Ally Financial Inc.              In progress   \n",
       "2015-05-22        27615                   Navy FCU              In progress   \n",
       "2015-05-22         1474          Santander Bank US              In progress   \n",
       "\n",
       "              Timely_response?  \n",
       "Date_received                   \n",
       "2015-05-22                 Yes  \n",
       "2015-05-22                 Yes  \n",
       "2015-05-22                 Yes  \n",
       "2015-05-22                 Yes  \n",
       "2015-05-22                 Yes  "
      ]
     },
     "execution_count": 60,
     "metadata": {},
     "output_type": "execute_result"
    }
   ],
   "source": [
    "complaints_data.head()"
   ]
  },
  {
   "cell_type": "code",
   "execution_count": 67,
   "metadata": {
    "collapsed": true
   },
   "outputs": [],
   "source": [
    "product = complaints_data.groupby(\"Product\")"
   ]
  },
  {
   "cell_type": "code",
   "execution_count": 68,
   "metadata": {
    "collapsed": false
   },
   "outputs": [
    {
     "data": {
      "text/html": [
       "<div style=\"max-height:1000px;max-width:1500px;overflow:auto;\">\n",
       "<table border=\"1\" class=\"dataframe\">\n",
       "  <thead>\n",
       "    <tr style=\"text-align: right;\">\n",
       "      <th></th>\n",
       "      <th>Product</th>\n",
       "      <th>Sub-product</th>\n",
       "      <th>State</th>\n",
       "      <th>ZIP_code</th>\n",
       "      <th>Company</th>\n",
       "      <th>Company_response</th>\n",
       "      <th>Timely_response?</th>\n",
       "    </tr>\n",
       "    <tr>\n",
       "      <th>Date_received</th>\n",
       "      <th></th>\n",
       "      <th></th>\n",
       "      <th></th>\n",
       "      <th></th>\n",
       "      <th></th>\n",
       "      <th></th>\n",
       "      <th></th>\n",
       "    </tr>\n",
       "  </thead>\n",
       "  <tbody>\n",
       "    <tr>\n",
       "      <th>2015-05-22</th>\n",
       "      <td>Mortgage</td>\n",
       "      <td>Conventional adjustable mortgage (ARM)</td>\n",
       "      <td>VA</td>\n",
       "      <td>22204</td>\n",
       "      <td>Green Tree Servicing, LLC</td>\n",
       "      <td>Closed with explanation</td>\n",
       "      <td>Yes</td>\n",
       "    </tr>\n",
       "    <tr>\n",
       "      <th>2015-05-22</th>\n",
       "      <td>Consumer loan</td>\n",
       "      <td>Vehicle loan</td>\n",
       "      <td>MO</td>\n",
       "      <td>63304</td>\n",
       "      <td>Ally Financial Inc.</td>\n",
       "      <td>In progress</td>\n",
       "      <td>Yes</td>\n",
       "    </tr>\n",
       "    <tr>\n",
       "      <th>2015-05-22</th>\n",
       "      <td>Consumer loan</td>\n",
       "      <td>Vehicle lease</td>\n",
       "      <td>FL</td>\n",
       "      <td>33414</td>\n",
       "      <td>Ally Financial Inc.</td>\n",
       "      <td>In progress</td>\n",
       "      <td>Yes</td>\n",
       "    </tr>\n",
       "    <tr>\n",
       "      <th>2015-05-22</th>\n",
       "      <td>Mortgage</td>\n",
       "      <td>Conventional fixed mortgage</td>\n",
       "      <td>NC</td>\n",
       "      <td>27615</td>\n",
       "      <td>Navy FCU</td>\n",
       "      <td>In progress</td>\n",
       "      <td>Yes</td>\n",
       "    </tr>\n",
       "    <tr>\n",
       "      <th>2015-05-22</th>\n",
       "      <td>Consumer loan</td>\n",
       "      <td>Installment loan</td>\n",
       "      <td>MA</td>\n",
       "      <td>1474</td>\n",
       "      <td>Santander Bank US</td>\n",
       "      <td>In progress</td>\n",
       "      <td>Yes</td>\n",
       "    </tr>\n",
       "    <tr>\n",
       "      <th>2015-05-22</th>\n",
       "      <td>Debt collection</td>\n",
       "      <td>Medical</td>\n",
       "      <td>KY</td>\n",
       "      <td>41522</td>\n",
       "      <td>GLA Collection Company, Inc.</td>\n",
       "      <td>Closed with explanation</td>\n",
       "      <td>Yes</td>\n",
       "    </tr>\n",
       "    <tr>\n",
       "      <th>2015-05-22</th>\n",
       "      <td>Debt collection</td>\n",
       "      <td>Medical</td>\n",
       "      <td>IL</td>\n",
       "      <td>62684</td>\n",
       "      <td>Transworld Systems Inc.</td>\n",
       "      <td>In progress</td>\n",
       "      <td>Yes</td>\n",
       "    </tr>\n",
       "    <tr>\n",
       "      <th>2015-05-22</th>\n",
       "      <td>Debt collection</td>\n",
       "      <td>Other (phone, health club, etc.)</td>\n",
       "      <td>DC</td>\n",
       "      <td>20005</td>\n",
       "      <td>PDQ Services, Inc.</td>\n",
       "      <td>Closed with explanation</td>\n",
       "      <td>Yes</td>\n",
       "    </tr>\n",
       "    <tr>\n",
       "      <th>2015-05-21</th>\n",
       "      <td>Debt collection</td>\n",
       "      <td>Other (phone, health club, etc.)</td>\n",
       "      <td>TX</td>\n",
       "      <td>78233</td>\n",
       "      <td>I.C. System, Inc.</td>\n",
       "      <td>Closed with explanation</td>\n",
       "      <td>Yes</td>\n",
       "    </tr>\n",
       "    <tr>\n",
       "      <th>2015-05-21</th>\n",
       "      <td>Debt collection</td>\n",
       "      <td>Medical</td>\n",
       "      <td>KY</td>\n",
       "      <td>40359</td>\n",
       "      <td>GLA Collection Company, Inc.</td>\n",
       "      <td>Closed with explanation</td>\n",
       "      <td>Yes</td>\n",
       "    </tr>\n",
       "    <tr>\n",
       "      <th>2015-05-21</th>\n",
       "      <td>Credit reporting</td>\n",
       "      <td>NaN</td>\n",
       "      <td>NaN</td>\n",
       "      <td>92623</td>\n",
       "      <td>FNIS (Fidelity National Information Services, ...</td>\n",
       "      <td>Closed with explanation</td>\n",
       "      <td>Yes</td>\n",
       "    </tr>\n",
       "    <tr>\n",
       "      <th>2015-05-21</th>\n",
       "      <td>Payday loan</td>\n",
       "      <td>NaN</td>\n",
       "      <td>OR</td>\n",
       "      <td>97214</td>\n",
       "      <td>Red Rock Tribal Lending</td>\n",
       "      <td>Closed with explanation</td>\n",
       "      <td>Yes</td>\n",
       "    </tr>\n",
       "    <tr>\n",
       "      <th>2015-05-21</th>\n",
       "      <td>Mortgage</td>\n",
       "      <td>Conventional fixed mortgage</td>\n",
       "      <td>FL</td>\n",
       "      <td>33173</td>\n",
       "      <td>Home Financing Center</td>\n",
       "      <td>Closed with explanation</td>\n",
       "      <td>Yes</td>\n",
       "    </tr>\n",
       "    <tr>\n",
       "      <th>2015-05-21</th>\n",
       "      <td>Mortgage</td>\n",
       "      <td>Conventional fixed mortgage</td>\n",
       "      <td>LA</td>\n",
       "      <td>70769</td>\n",
       "      <td>Bayview Loan Servicing, LLC</td>\n",
       "      <td>In progress</td>\n",
       "      <td>Yes</td>\n",
       "    </tr>\n",
       "    <tr>\n",
       "      <th>2015-05-21</th>\n",
       "      <td>Consumer loan</td>\n",
       "      <td>Vehicle loan</td>\n",
       "      <td>PA</td>\n",
       "      <td>17055</td>\n",
       "      <td>Ally Financial Inc.</td>\n",
       "      <td>In progress</td>\n",
       "      <td>Yes</td>\n",
       "    </tr>\n",
       "    <tr>\n",
       "      <th>2015-05-21</th>\n",
       "      <td>Mortgage</td>\n",
       "      <td>Home equity loan or line of credit</td>\n",
       "      <td>ID</td>\n",
       "      <td>83313</td>\n",
       "      <td>Flagstar Bank</td>\n",
       "      <td>In progress</td>\n",
       "      <td>Yes</td>\n",
       "    </tr>\n",
       "    <tr>\n",
       "      <th>2015-05-21</th>\n",
       "      <td>Consumer loan</td>\n",
       "      <td>Vehicle lease</td>\n",
       "      <td>MI</td>\n",
       "      <td>49829</td>\n",
       "      <td>Ally Financial Inc.</td>\n",
       "      <td>In progress</td>\n",
       "      <td>Yes</td>\n",
       "    </tr>\n",
       "    <tr>\n",
       "      <th>2015-05-20</th>\n",
       "      <td>Credit reporting</td>\n",
       "      <td>NaN</td>\n",
       "      <td>OH</td>\n",
       "      <td>43615</td>\n",
       "      <td>TransUnion</td>\n",
       "      <td>Closed with non-monetary relief</td>\n",
       "      <td>Yes</td>\n",
       "    </tr>\n",
       "    <tr>\n",
       "      <th>2015-05-20</th>\n",
       "      <td>Credit reporting</td>\n",
       "      <td>NaN</td>\n",
       "      <td>CA</td>\n",
       "      <td>95128</td>\n",
       "      <td>TransUnion</td>\n",
       "      <td>Closed with explanation</td>\n",
       "      <td>Yes</td>\n",
       "    </tr>\n",
       "    <tr>\n",
       "      <th>2015-05-20</th>\n",
       "      <td>Money transfers</td>\n",
       "      <td>International money transfer</td>\n",
       "      <td>PA</td>\n",
       "      <td>19560</td>\n",
       "      <td>MoneyGram</td>\n",
       "      <td>In progress</td>\n",
       "      <td>Yes</td>\n",
       "    </tr>\n",
       "    <tr>\n",
       "      <th>2015-05-20</th>\n",
       "      <td>Credit reporting</td>\n",
       "      <td>NaN</td>\n",
       "      <td>IL</td>\n",
       "      <td>60640</td>\n",
       "      <td>TransUnion</td>\n",
       "      <td>Closed with explanation</td>\n",
       "      <td>Yes</td>\n",
       "    </tr>\n",
       "    <tr>\n",
       "      <th>2015-05-20</th>\n",
       "      <td>Credit reporting</td>\n",
       "      <td>NaN</td>\n",
       "      <td>PA</td>\n",
       "      <td>19126</td>\n",
       "      <td>TransUnion</td>\n",
       "      <td>In progress</td>\n",
       "      <td>Yes</td>\n",
       "    </tr>\n",
       "    <tr>\n",
       "      <th>2015-05-20</th>\n",
       "      <td>Credit card</td>\n",
       "      <td>NaN</td>\n",
       "      <td>UT</td>\n",
       "      <td>84790</td>\n",
       "      <td>U.S. Bancorp</td>\n",
       "      <td>Closed with explanation</td>\n",
       "      <td>Yes</td>\n",
       "    </tr>\n",
       "    <tr>\n",
       "      <th>2015-05-20</th>\n",
       "      <td>Bank account or service</td>\n",
       "      <td>Checking account</td>\n",
       "      <td>OR</td>\n",
       "      <td>97292</td>\n",
       "      <td>Bank of America</td>\n",
       "      <td>In progress</td>\n",
       "      <td>Yes</td>\n",
       "    </tr>\n",
       "    <tr>\n",
       "      <th>2015-05-20</th>\n",
       "      <td>Money transfers</td>\n",
       "      <td>International money transfer</td>\n",
       "      <td>NJ</td>\n",
       "      <td>7712</td>\n",
       "      <td>MoneyGram</td>\n",
       "      <td>In progress</td>\n",
       "      <td>Yes</td>\n",
       "    </tr>\n",
       "    <tr>\n",
       "      <th>2015-05-20</th>\n",
       "      <td>Money transfers</td>\n",
       "      <td>International money transfer</td>\n",
       "      <td>AL</td>\n",
       "      <td>36608</td>\n",
       "      <td>MoneyGram</td>\n",
       "      <td>Closed with explanation</td>\n",
       "      <td>Yes</td>\n",
       "    </tr>\n",
       "    <tr>\n",
       "      <th>2015-05-20</th>\n",
       "      <td>Credit card</td>\n",
       "      <td>NaN</td>\n",
       "      <td>GA</td>\n",
       "      <td>30067</td>\n",
       "      <td>Synovus Bank</td>\n",
       "      <td>Closed with explanation</td>\n",
       "      <td>Yes</td>\n",
       "    </tr>\n",
       "    <tr>\n",
       "      <th>2015-05-19</th>\n",
       "      <td>Bank account or service</td>\n",
       "      <td>Cashing a check without an account</td>\n",
       "      <td>MO</td>\n",
       "      <td>65802</td>\n",
       "      <td>Commerce Bank</td>\n",
       "      <td>In progress</td>\n",
       "      <td>Yes</td>\n",
       "    </tr>\n",
       "    <tr>\n",
       "      <th>2015-05-19</th>\n",
       "      <td>Bank account or service</td>\n",
       "      <td>Other bank product/service</td>\n",
       "      <td>CA</td>\n",
       "      <td>92704</td>\n",
       "      <td>JPMorgan Chase</td>\n",
       "      <td>Closed with explanation</td>\n",
       "      <td>Yes</td>\n",
       "    </tr>\n",
       "    <tr>\n",
       "      <th>2015-05-19</th>\n",
       "      <td>Student loan</td>\n",
       "      <td>Non-federal student loan</td>\n",
       "      <td>NJ</td>\n",
       "      <td>7326</td>\n",
       "      <td>Higher Education Student Assistance Authority ...</td>\n",
       "      <td>Closed with explanation</td>\n",
       "      <td>Yes</td>\n",
       "    </tr>\n",
       "    <tr>\n",
       "      <th>2015-05-19</th>\n",
       "      <td>Bank account or service</td>\n",
       "      <td>Checking account</td>\n",
       "      <td>TN</td>\n",
       "      <td>37013</td>\n",
       "      <td>Wells Fargo</td>\n",
       "      <td>Closed with explanation</td>\n",
       "      <td>Yes</td>\n",
       "    </tr>\n",
       "    <tr>\n",
       "      <th>2015-05-19</th>\n",
       "      <td>Bank account or service</td>\n",
       "      <td>Checking account</td>\n",
       "      <td>CO</td>\n",
       "      <td>80033</td>\n",
       "      <td>Wells Fargo</td>\n",
       "      <td>Closed with explanation</td>\n",
       "      <td>Yes</td>\n",
       "    </tr>\n",
       "    <tr>\n",
       "      <th>2015-05-19</th>\n",
       "      <td>Money transfers</td>\n",
       "      <td>International money transfer</td>\n",
       "      <td>MA</td>\n",
       "      <td>2026</td>\n",
       "      <td>MoneyGram</td>\n",
       "      <td>Closed with explanation</td>\n",
       "      <td>Yes</td>\n",
       "    </tr>\n",
       "    <tr>\n",
       "      <th>2015-05-18</th>\n",
       "      <td>Credit card</td>\n",
       "      <td>NaN</td>\n",
       "      <td>VA</td>\n",
       "      <td>23508</td>\n",
       "      <td>Bank of America</td>\n",
       "      <td>In progress</td>\n",
       "      <td>Yes</td>\n",
       "    </tr>\n",
       "    <tr>\n",
       "      <th>2015-05-18</th>\n",
       "      <td>Credit card</td>\n",
       "      <td>NaN</td>\n",
       "      <td>CA</td>\n",
       "      <td>92025</td>\n",
       "      <td>Amex</td>\n",
       "      <td>Closed with explanation</td>\n",
       "      <td>Yes</td>\n",
       "    </tr>\n",
       "    <tr>\n",
       "      <th>2015-05-18</th>\n",
       "      <td>Credit card</td>\n",
       "      <td>NaN</td>\n",
       "      <td>FL</td>\n",
       "      <td>33573</td>\n",
       "      <td>Amex</td>\n",
       "      <td>Closed with explanation</td>\n",
       "      <td>Yes</td>\n",
       "    </tr>\n",
       "    <tr>\n",
       "      <th>2015-05-18</th>\n",
       "      <td>Money transfers</td>\n",
       "      <td>International money transfer</td>\n",
       "      <td>NJ</td>\n",
       "      <td>7626</td>\n",
       "      <td>MoneyGram</td>\n",
       "      <td>Closed with explanation</td>\n",
       "      <td>Yes</td>\n",
       "    </tr>\n",
       "    <tr>\n",
       "      <th>2015-05-18</th>\n",
       "      <td>Student loan</td>\n",
       "      <td>Non-federal student loan</td>\n",
       "      <td>PA</td>\n",
       "      <td>15210</td>\n",
       "      <td>Transworld Systems Inc.</td>\n",
       "      <td>In progress</td>\n",
       "      <td>Yes</td>\n",
       "    </tr>\n",
       "    <tr>\n",
       "      <th>2015-05-18</th>\n",
       "      <td>Payday loan</td>\n",
       "      <td>NaN</td>\n",
       "      <td>OH</td>\n",
       "      <td>44107</td>\n",
       "      <td>Enova International, Inc.</td>\n",
       "      <td>Closed with explanation</td>\n",
       "      <td>Yes</td>\n",
       "    </tr>\n",
       "    <tr>\n",
       "      <th>2015-05-18</th>\n",
       "      <td>Student loan</td>\n",
       "      <td>Non-federal student loan</td>\n",
       "      <td>NJ</td>\n",
       "      <td>7920</td>\n",
       "      <td>Higher Education Student Assistance Authority ...</td>\n",
       "      <td>Closed with explanation</td>\n",
       "      <td>Yes</td>\n",
       "    </tr>\n",
       "    <tr>\n",
       "      <th>2015-05-18</th>\n",
       "      <td>Student loan</td>\n",
       "      <td>Non-federal student loan</td>\n",
       "      <td>PA</td>\n",
       "      <td>15210</td>\n",
       "      <td>Transworld Systems Inc.</td>\n",
       "      <td>In progress</td>\n",
       "      <td>Yes</td>\n",
       "    </tr>\n",
       "    <tr>\n",
       "      <th>2015-05-18</th>\n",
       "      <td>Student loan</td>\n",
       "      <td>Non-federal student loan</td>\n",
       "      <td>CA</td>\n",
       "      <td>92688</td>\n",
       "      <td>Transworld Systems Inc.</td>\n",
       "      <td>In progress</td>\n",
       "      <td>Yes</td>\n",
       "    </tr>\n",
       "    <tr>\n",
       "      <th>2015-05-14</th>\n",
       "      <td>Payday loan</td>\n",
       "      <td>NaN</td>\n",
       "      <td>IN</td>\n",
       "      <td>47140</td>\n",
       "      <td>CashCall, Inc.</td>\n",
       "      <td>Closed with explanation</td>\n",
       "      <td>Yes</td>\n",
       "    </tr>\n",
       "    <tr>\n",
       "      <th>2015-05-14</th>\n",
       "      <td>Payday loan</td>\n",
       "      <td>NaN</td>\n",
       "      <td>AL</td>\n",
       "      <td>36693</td>\n",
       "      <td>Risecredit, LLC</td>\n",
       "      <td>Closed with explanation</td>\n",
       "      <td>Yes</td>\n",
       "    </tr>\n",
       "    <tr>\n",
       "      <th>2015-05-14</th>\n",
       "      <td>Payday loan</td>\n",
       "      <td>NaN</td>\n",
       "      <td>MO</td>\n",
       "      <td>63118</td>\n",
       "      <td>AmeriCash Holding LLC</td>\n",
       "      <td>Closed with explanation</td>\n",
       "      <td>Yes</td>\n",
       "    </tr>\n",
       "    <tr>\n",
       "      <th>2015-05-13</th>\n",
       "      <td>Prepaid card</td>\n",
       "      <td>General purpose card</td>\n",
       "      <td>CA</td>\n",
       "      <td>91304</td>\n",
       "      <td>Amex</td>\n",
       "      <td>Closed with explanation</td>\n",
       "      <td>Yes</td>\n",
       "    </tr>\n",
       "    <tr>\n",
       "      <th>2015-05-12</th>\n",
       "      <td>Prepaid card</td>\n",
       "      <td>General purpose card</td>\n",
       "      <td>CA</td>\n",
       "      <td>91387</td>\n",
       "      <td>Amex</td>\n",
       "      <td>Closed with explanation</td>\n",
       "      <td>Yes</td>\n",
       "    </tr>\n",
       "    <tr>\n",
       "      <th>2015-05-12</th>\n",
       "      <td>Other financial service</td>\n",
       "      <td>Check cashing</td>\n",
       "      <td>WA</td>\n",
       "      <td>98107</td>\n",
       "      <td>U.S. Bancorp</td>\n",
       "      <td>Closed with explanation</td>\n",
       "      <td>Yes</td>\n",
       "    </tr>\n",
       "    <tr>\n",
       "      <th>2015-05-12</th>\n",
       "      <td>Prepaid card</td>\n",
       "      <td>Gift or merchant card</td>\n",
       "      <td>GA</td>\n",
       "      <td>30047</td>\n",
       "      <td>Citibank</td>\n",
       "      <td>Closed with explanation</td>\n",
       "      <td>Yes</td>\n",
       "    </tr>\n",
       "    <tr>\n",
       "      <th>2015-05-11</th>\n",
       "      <td>Prepaid card</td>\n",
       "      <td>General purpose card</td>\n",
       "      <td>CA</td>\n",
       "      <td>94070</td>\n",
       "      <td>Citibank</td>\n",
       "      <td>Closed with explanation</td>\n",
       "      <td>Yes</td>\n",
       "    </tr>\n",
       "    <tr>\n",
       "      <th>2015-05-10</th>\n",
       "      <td>Prepaid card</td>\n",
       "      <td>Gift or merchant card</td>\n",
       "      <td>GA</td>\n",
       "      <td>30058</td>\n",
       "      <td>Amex</td>\n",
       "      <td>Closed with monetary relief</td>\n",
       "      <td>Yes</td>\n",
       "    </tr>\n",
       "    <tr>\n",
       "      <th>2015-05-08</th>\n",
       "      <td>Other financial service</td>\n",
       "      <td>Money order</td>\n",
       "      <td>GA</td>\n",
       "      <td>30546</td>\n",
       "      <td>Western Union</td>\n",
       "      <td>In progress</td>\n",
       "      <td>Yes</td>\n",
       "    </tr>\n",
       "    <tr>\n",
       "      <th>2015-05-07</th>\n",
       "      <td>Other financial service</td>\n",
       "      <td>Money order</td>\n",
       "      <td>NC</td>\n",
       "      <td>27520</td>\n",
       "      <td>Western Union</td>\n",
       "      <td>In progress</td>\n",
       "      <td>Yes</td>\n",
       "    </tr>\n",
       "    <tr>\n",
       "      <th>2015-05-06</th>\n",
       "      <td>Other financial service</td>\n",
       "      <td>Credit repair</td>\n",
       "      <td>MD</td>\n",
       "      <td>20710</td>\n",
       "      <td>John C. Heath, Attorney at Law, PLLC</td>\n",
       "      <td>Closed with explanation</td>\n",
       "      <td>Yes</td>\n",
       "    </tr>\n",
       "    <tr>\n",
       "      <th>2015-05-06</th>\n",
       "      <td>Other financial service</td>\n",
       "      <td>Foreign currency exchange</td>\n",
       "      <td>WI</td>\n",
       "      <td>53202</td>\n",
       "      <td>Wells Fargo</td>\n",
       "      <td>Closed with explanation</td>\n",
       "      <td>Yes</td>\n",
       "    </tr>\n",
       "  </tbody>\n",
       "</table>\n",
       "</div>"
      ],
      "text/plain": [
       "                               Product  \\\n",
       "Date_received                            \n",
       "2015-05-22                    Mortgage   \n",
       "2015-05-22               Consumer loan   \n",
       "2015-05-22               Consumer loan   \n",
       "2015-05-22                    Mortgage   \n",
       "2015-05-22               Consumer loan   \n",
       "2015-05-22             Debt collection   \n",
       "2015-05-22             Debt collection   \n",
       "2015-05-22             Debt collection   \n",
       "2015-05-21             Debt collection   \n",
       "2015-05-21             Debt collection   \n",
       "2015-05-21            Credit reporting   \n",
       "2015-05-21                 Payday loan   \n",
       "2015-05-21                    Mortgage   \n",
       "2015-05-21                    Mortgage   \n",
       "2015-05-21               Consumer loan   \n",
       "2015-05-21                    Mortgage   \n",
       "2015-05-21               Consumer loan   \n",
       "2015-05-20            Credit reporting   \n",
       "2015-05-20            Credit reporting   \n",
       "2015-05-20             Money transfers   \n",
       "2015-05-20            Credit reporting   \n",
       "2015-05-20            Credit reporting   \n",
       "2015-05-20                 Credit card   \n",
       "2015-05-20     Bank account or service   \n",
       "2015-05-20             Money transfers   \n",
       "2015-05-20             Money transfers   \n",
       "2015-05-20                 Credit card   \n",
       "2015-05-19     Bank account or service   \n",
       "2015-05-19     Bank account or service   \n",
       "2015-05-19                Student loan   \n",
       "2015-05-19     Bank account or service   \n",
       "2015-05-19     Bank account or service   \n",
       "2015-05-19             Money transfers   \n",
       "2015-05-18                 Credit card   \n",
       "2015-05-18                 Credit card   \n",
       "2015-05-18                 Credit card   \n",
       "2015-05-18             Money transfers   \n",
       "2015-05-18                Student loan   \n",
       "2015-05-18                 Payday loan   \n",
       "2015-05-18                Student loan   \n",
       "2015-05-18                Student loan   \n",
       "2015-05-18                Student loan   \n",
       "2015-05-14                 Payday loan   \n",
       "2015-05-14                 Payday loan   \n",
       "2015-05-14                 Payday loan   \n",
       "2015-05-13                Prepaid card   \n",
       "2015-05-12                Prepaid card   \n",
       "2015-05-12     Other financial service   \n",
       "2015-05-12                Prepaid card   \n",
       "2015-05-11                Prepaid card   \n",
       "2015-05-10                Prepaid card   \n",
       "2015-05-08     Other financial service   \n",
       "2015-05-07     Other financial service   \n",
       "2015-05-06     Other financial service   \n",
       "2015-05-06     Other financial service   \n",
       "\n",
       "                                          Sub-product State  ZIP_code  \\\n",
       "Date_received                                                           \n",
       "2015-05-22     Conventional adjustable mortgage (ARM)    VA     22204   \n",
       "2015-05-22                               Vehicle loan    MO     63304   \n",
       "2015-05-22                              Vehicle lease    FL     33414   \n",
       "2015-05-22                Conventional fixed mortgage    NC     27615   \n",
       "2015-05-22                           Installment loan    MA      1474   \n",
       "2015-05-22                                    Medical    KY     41522   \n",
       "2015-05-22                                    Medical    IL     62684   \n",
       "2015-05-22           Other (phone, health club, etc.)    DC     20005   \n",
       "2015-05-21           Other (phone, health club, etc.)    TX     78233   \n",
       "2015-05-21                                    Medical    KY     40359   \n",
       "2015-05-21                                        NaN   NaN     92623   \n",
       "2015-05-21                                        NaN    OR     97214   \n",
       "2015-05-21                Conventional fixed mortgage    FL     33173   \n",
       "2015-05-21                Conventional fixed mortgage    LA     70769   \n",
       "2015-05-21                               Vehicle loan    PA     17055   \n",
       "2015-05-21         Home equity loan or line of credit    ID     83313   \n",
       "2015-05-21                              Vehicle lease    MI     49829   \n",
       "2015-05-20                                        NaN    OH     43615   \n",
       "2015-05-20                                        NaN    CA     95128   \n",
       "2015-05-20               International money transfer    PA     19560   \n",
       "2015-05-20                                        NaN    IL     60640   \n",
       "2015-05-20                                        NaN    PA     19126   \n",
       "2015-05-20                                        NaN    UT     84790   \n",
       "2015-05-20                           Checking account    OR     97292   \n",
       "2015-05-20               International money transfer    NJ      7712   \n",
       "2015-05-20               International money transfer    AL     36608   \n",
       "2015-05-20                                        NaN    GA     30067   \n",
       "2015-05-19         Cashing a check without an account    MO     65802   \n",
       "2015-05-19                 Other bank product/service    CA     92704   \n",
       "2015-05-19                   Non-federal student loan    NJ      7326   \n",
       "2015-05-19                           Checking account    TN     37013   \n",
       "2015-05-19                           Checking account    CO     80033   \n",
       "2015-05-19               International money transfer    MA      2026   \n",
       "2015-05-18                                        NaN    VA     23508   \n",
       "2015-05-18                                        NaN    CA     92025   \n",
       "2015-05-18                                        NaN    FL     33573   \n",
       "2015-05-18               International money transfer    NJ      7626   \n",
       "2015-05-18                   Non-federal student loan    PA     15210   \n",
       "2015-05-18                                        NaN    OH     44107   \n",
       "2015-05-18                   Non-federal student loan    NJ      7920   \n",
       "2015-05-18                   Non-federal student loan    PA     15210   \n",
       "2015-05-18                   Non-federal student loan    CA     92688   \n",
       "2015-05-14                                        NaN    IN     47140   \n",
       "2015-05-14                                        NaN    AL     36693   \n",
       "2015-05-14                                        NaN    MO     63118   \n",
       "2015-05-13                       General purpose card    CA     91304   \n",
       "2015-05-12                       General purpose card    CA     91387   \n",
       "2015-05-12                              Check cashing    WA     98107   \n",
       "2015-05-12                      Gift or merchant card    GA     30047   \n",
       "2015-05-11                       General purpose card    CA     94070   \n",
       "2015-05-10                      Gift or merchant card    GA     30058   \n",
       "2015-05-08                                Money order    GA     30546   \n",
       "2015-05-07                                Money order    NC     27520   \n",
       "2015-05-06                              Credit repair    MD     20710   \n",
       "2015-05-06                  Foreign currency exchange    WI     53202   \n",
       "\n",
       "                                                         Company  \\\n",
       "Date_received                                                      \n",
       "2015-05-22                             Green Tree Servicing, LLC   \n",
       "2015-05-22                                   Ally Financial Inc.   \n",
       "2015-05-22                                   Ally Financial Inc.   \n",
       "2015-05-22                                              Navy FCU   \n",
       "2015-05-22                                     Santander Bank US   \n",
       "2015-05-22                          GLA Collection Company, Inc.   \n",
       "2015-05-22                               Transworld Systems Inc.   \n",
       "2015-05-22                                    PDQ Services, Inc.   \n",
       "2015-05-21                                     I.C. System, Inc.   \n",
       "2015-05-21                          GLA Collection Company, Inc.   \n",
       "2015-05-21     FNIS (Fidelity National Information Services, ...   \n",
       "2015-05-21                               Red Rock Tribal Lending   \n",
       "2015-05-21                                 Home Financing Center   \n",
       "2015-05-21                           Bayview Loan Servicing, LLC   \n",
       "2015-05-21                                   Ally Financial Inc.   \n",
       "2015-05-21                                         Flagstar Bank   \n",
       "2015-05-21                                   Ally Financial Inc.   \n",
       "2015-05-20                                            TransUnion   \n",
       "2015-05-20                                            TransUnion   \n",
       "2015-05-20                                             MoneyGram   \n",
       "2015-05-20                                            TransUnion   \n",
       "2015-05-20                                            TransUnion   \n",
       "2015-05-20                                          U.S. Bancorp   \n",
       "2015-05-20                                       Bank of America   \n",
       "2015-05-20                                             MoneyGram   \n",
       "2015-05-20                                             MoneyGram   \n",
       "2015-05-20                                          Synovus Bank   \n",
       "2015-05-19                                         Commerce Bank   \n",
       "2015-05-19                                        JPMorgan Chase   \n",
       "2015-05-19     Higher Education Student Assistance Authority ...   \n",
       "2015-05-19                                           Wells Fargo   \n",
       "2015-05-19                                           Wells Fargo   \n",
       "2015-05-19                                             MoneyGram   \n",
       "2015-05-18                                       Bank of America   \n",
       "2015-05-18                                                  Amex   \n",
       "2015-05-18                                                  Amex   \n",
       "2015-05-18                                             MoneyGram   \n",
       "2015-05-18                               Transworld Systems Inc.   \n",
       "2015-05-18                             Enova International, Inc.   \n",
       "2015-05-18     Higher Education Student Assistance Authority ...   \n",
       "2015-05-18                               Transworld Systems Inc.   \n",
       "2015-05-18                               Transworld Systems Inc.   \n",
       "2015-05-14                                        CashCall, Inc.   \n",
       "2015-05-14                                       Risecredit, LLC   \n",
       "2015-05-14                                 AmeriCash Holding LLC   \n",
       "2015-05-13                                                  Amex   \n",
       "2015-05-12                                                  Amex   \n",
       "2015-05-12                                          U.S. Bancorp   \n",
       "2015-05-12                                              Citibank   \n",
       "2015-05-11                                              Citibank   \n",
       "2015-05-10                                                  Amex   \n",
       "2015-05-08                                         Western Union   \n",
       "2015-05-07                                         Western Union   \n",
       "2015-05-06                  John C. Heath, Attorney at Law, PLLC   \n",
       "2015-05-06                                           Wells Fargo   \n",
       "\n",
       "                              Company_response Timely_response?  \n",
       "Date_received                                                    \n",
       "2015-05-22             Closed with explanation              Yes  \n",
       "2015-05-22                         In progress              Yes  \n",
       "2015-05-22                         In progress              Yes  \n",
       "2015-05-22                         In progress              Yes  \n",
       "2015-05-22                         In progress              Yes  \n",
       "2015-05-22             Closed with explanation              Yes  \n",
       "2015-05-22                         In progress              Yes  \n",
       "2015-05-22             Closed with explanation              Yes  \n",
       "2015-05-21             Closed with explanation              Yes  \n",
       "2015-05-21             Closed with explanation              Yes  \n",
       "2015-05-21             Closed with explanation              Yes  \n",
       "2015-05-21             Closed with explanation              Yes  \n",
       "2015-05-21             Closed with explanation              Yes  \n",
       "2015-05-21                         In progress              Yes  \n",
       "2015-05-21                         In progress              Yes  \n",
       "2015-05-21                         In progress              Yes  \n",
       "2015-05-21                         In progress              Yes  \n",
       "2015-05-20     Closed with non-monetary relief              Yes  \n",
       "2015-05-20             Closed with explanation              Yes  \n",
       "2015-05-20                         In progress              Yes  \n",
       "2015-05-20             Closed with explanation              Yes  \n",
       "2015-05-20                         In progress              Yes  \n",
       "2015-05-20             Closed with explanation              Yes  \n",
       "2015-05-20                         In progress              Yes  \n",
       "2015-05-20                         In progress              Yes  \n",
       "2015-05-20             Closed with explanation              Yes  \n",
       "2015-05-20             Closed with explanation              Yes  \n",
       "2015-05-19                         In progress              Yes  \n",
       "2015-05-19             Closed with explanation              Yes  \n",
       "2015-05-19             Closed with explanation              Yes  \n",
       "2015-05-19             Closed with explanation              Yes  \n",
       "2015-05-19             Closed with explanation              Yes  \n",
       "2015-05-19             Closed with explanation              Yes  \n",
       "2015-05-18                         In progress              Yes  \n",
       "2015-05-18             Closed with explanation              Yes  \n",
       "2015-05-18             Closed with explanation              Yes  \n",
       "2015-05-18             Closed with explanation              Yes  \n",
       "2015-05-18                         In progress              Yes  \n",
       "2015-05-18             Closed with explanation              Yes  \n",
       "2015-05-18             Closed with explanation              Yes  \n",
       "2015-05-18                         In progress              Yes  \n",
       "2015-05-18                         In progress              Yes  \n",
       "2015-05-14             Closed with explanation              Yes  \n",
       "2015-05-14             Closed with explanation              Yes  \n",
       "2015-05-14             Closed with explanation              Yes  \n",
       "2015-05-13             Closed with explanation              Yes  \n",
       "2015-05-12             Closed with explanation              Yes  \n",
       "2015-05-12             Closed with explanation              Yes  \n",
       "2015-05-12             Closed with explanation              Yes  \n",
       "2015-05-11             Closed with explanation              Yes  \n",
       "2015-05-10         Closed with monetary relief              Yes  \n",
       "2015-05-08                         In progress              Yes  \n",
       "2015-05-07                         In progress              Yes  \n",
       "2015-05-06             Closed with explanation              Yes  \n",
       "2015-05-06             Closed with explanation              Yes  "
      ]
     },
     "execution_count": 68,
     "metadata": {},
     "output_type": "execute_result"
    }
   ],
   "source": [
    "product.head()"
   ]
  },
  {
   "cell_type": "code",
   "execution_count": 93,
   "metadata": {
    "collapsed": false
   },
   "outputs": [],
   "source": [
    "count_by_month = complaints_data.Product.resample(\"M\", how=[\"count\"])"
   ]
  },
  {
   "cell_type": "code",
   "execution_count": 96,
   "metadata": {
    "collapsed": false
   },
   "outputs": [],
   "source": [
    "plot_count_month = count_by_month[:-1]"
   ]
  },
  {
   "cell_type": "code",
   "execution_count": 97,
   "metadata": {
    "collapsed": false
   },
   "outputs": [
    {
     "data": {
      "text/plain": [
       "<matplotlib.axes._subplots.AxesSubplot at 0x1188c6470>"
      ]
     },
     "execution_count": 97,
     "metadata": {},
     "output_type": "execute_result"
    },
    {
     "data": {
      "image/png": "[encoded data removed]",
      "text/plain": [
       "<matplotlib.figure.Figure at 0x11891ac18>"
      ]
     },
     "metadata": {},
     "output_type": "display_data"
    }
   ],
   "source": [
    "plot_count_month.plot(kind=\"line\", title=\"Complaints by Month\")"
   ]
  },
  {
   "cell_type": "code",
   "execution_count": 104,
   "metadata": {
    "collapsed": false
   },
   "outputs": [
    {
     "data": {
      "text/plain": [
       "<matplotlib.axes._subplots.AxesSubplot at 0x14133a5c0>"
      ]
     },
     "execution_count": 104,
     "metadata": {},
     "output_type": "execute_result"
    },
    {
     "data": {
      "image/png": "[encoded data removed]",
      "text/plain": [
       "<matplotlib.figure.Figure at 0x141337668>"
      ]
     },
     "metadata": {},
     "output_type": "display_data"
    }
   ],
   "source": [
    "complaints_data.Product.value_counts().plot(kind = \"barh\", title=\"Complaints by Product\")"
   ]
  },
  {
   "cell_type": "code",
   "execution_count": 110,
   "metadata": {
    "collapsed": false
   },
   "outputs": [],
   "source": [
    "company_count = complaints_data.Company.value_counts()"
   ]
  },
  {
   "cell_type": "code",
   "execution_count": 113,
   "metadata": {
    "collapsed": false
   },
   "outputs": [
    {
     "data": {
      "text/plain": [
       "<matplotlib.axes._subplots.AxesSubplot at 0x142121588>"
      ]
     },
     "execution_count": 113,
     "metadata": {},
     "output_type": "execute_result"
    },
    {
     "data": {
      "image/png": "[encoded data removed]",
      "text/plain": [
       "<matplotlib.figure.Figure at 0x12922d0b8>"
      ]
     },
     "metadata": {},
     "output_type": "display_data"
    }
   ],
   "source": [
    "company_count[0:10].plot(kind=\"barh\", title= \"Complaints by Company\")"
   ]
  },
  {
   "cell_type": "code",
   "execution_count": 161,
   "metadata": {
    "collapsed": false
   },
   "outputs": [
    {
     "data": {
      "text/plain": [
       "<matplotlib.axes._subplots.AxesSubplot at 0x11fa7b2b0>"
      ]
     },
     "execution_count": 161,
     "metadata": {},
     "output_type": "execute_result"
    },
    {
     "data": {
      "image/png": "[encoded data removed]",
      "text/plain": [
       "<matplotlib.figure.Figure at 0x11fa61668>"
      ]
     },
     "metadata": {},
     "output_type": "display_data"
    }
   ],
   "source": [
    "company_count[9::-1].plot(kind=\"barh\", title= \"Complaints by Company\")"
   ]
  },
  {
   "cell_type": "code",
   "execution_count": 116,
   "metadata": {
    "collapsed": true
   },
   "outputs": [],
   "source": [
    "company_response = complaints_data.Company_response.value_counts()"
   ]
  },
  {
   "cell_type": "code",
   "execution_count": 120,
   "metadata": {
    "collapsed": false
   },
   "outputs": [
    {
     "data": {
      "text/plain": [
       "Closed with explanation            279287\n",
       "Closed with non-monetary relief     50502\n",
       "Closed with monetary relief         28145\n",
       "Closed without relief               17909\n",
       "Closed                               9599\n",
       "Closed with relief                   5305\n",
       "In progress                          3222\n",
       "Untimely response                    1884\n",
       "dtype: int64"
      ]
     },
     "execution_count": 120,
     "metadata": {},
     "output_type": "execute_result"
    }
   ],
   "source": [
    "company_response"
   ]
  },
  {
   "cell_type": "code",
   "execution_count": 118,
   "metadata": {
    "collapsed": false
   },
   "outputs": [
    {
     "data": {
      "text/plain": [
       "<matplotlib.axes._subplots.AxesSubplot at 0x127fa7128>"
      ]
     },
     "execution_count": 118,
     "metadata": {},
     "output_type": "execute_result"
    },
    {
     "data": {
      "image/png": "[encoded data removed]",
      "text/plain": [
       "<matplotlib.figure.Figure at 0x14d9ff630>"
      ]
     },
     "metadata": {},
     "output_type": "display_data"
    }
   ],
   "source": [
    "company_response.plot(kind=\"barh\", title=\"Company Response to Complaints\")"
   ]
  },
  {
   "cell_type": "code",
   "execution_count": 122,
   "metadata": {
    "collapsed": false
   },
   "outputs": [
    {
     "name": "stderr",
     "output_type": "stream",
     "text": [
      "/usr/local/lib/python3.4/site-packages/IPython/kernel/__main__.py:1: SettingWithCopyWarning: \n",
      "A value is trying to be set on a copy of a slice from a DataFrame.\n",
      "Try using .loc[row_indexer,col_indexer] = value instead\n",
      "\n",
      "See the the caveats in the documentation: http://pandas.pydata.org/pandas-docs/stable/indexing.html#indexing-view-versus-copy\n",
      "  if __name__ == '__main__':\n"
     ]
    }
   ],
   "source": [
    "complaints_data[\"day_of_week\"] = complaints_data.index.to_series().map(lambda d: d.weekday())"
   ]
  },
  {
   "cell_type": "code",
   "execution_count": 125,
   "metadata": {
    "collapsed": false
   },
   "outputs": [],
   "source": [
    "day_data = complaints_data.day_of_week.value_counts().sort_index()"
   ]
  },
  {
   "cell_type": "code",
   "execution_count": 126,
   "metadata": {
    "collapsed": true
   },
   "outputs": [],
   "source": [
    "dow = [\"M\", \"Tu\", \"W\", \"Th\", \"F\", \"Sa\", \"Su\"]"
   ]
  },
  {
   "cell_type": "code",
   "execution_count": 127,
   "metadata": {
    "collapsed": true
   },
   "outputs": [],
   "source": [
    "day_data.index = dow"
   ]
  },
  {
   "cell_type": "code",
   "execution_count": 130,
   "metadata": {
    "collapsed": false
   },
   "outputs": [
    {
     "data": {
      "text/plain": [
       "<matplotlib.axes._subplots.AxesSubplot at 0x14d8a9278>"
      ]
     },
     "execution_count": 130,
     "metadata": {},
     "output_type": "execute_result"
    },
    {
     "data": {
      "image/png": "[encoded data removed]",
      "text/plain": [
       "<matplotlib.figure.Figure at 0x129386390>"
      ]
     },
     "metadata": {},
     "output_type": "display_data"
    }
   ],
   "source": [
    "day_data.plot(kind=\"bar\", title=\"Complaints by Day of Week\")"
   ]
  },
  {
   "cell_type": "code",
   "execution_count": 137,
   "metadata": {
    "collapsed": false
   },
   "outputs": [],
   "source": [
    "data_by_day = complaints_data.Product.resample(\"D\", how=[\"count\"])"
   ]
  },
  {
   "cell_type": "code",
   "execution_count": 139,
   "metadata": {
    "collapsed": false
   },
   "outputs": [],
   "source": [
    "data_by_day[\"day_of_week\"] = data_by_day.index.to_series().map(lambda d: d.weekday())"
   ]
  },
  {
   "cell_type": "code",
   "execution_count": 140,
   "metadata": {
    "collapsed": false
   },
   "outputs": [
    {
     "data": {
      "text/html": [
       "<div style=\"max-height:1000px;max-width:1500px;overflow:auto;\">\n",
       "<table border=\"1\" class=\"dataframe\">\n",
       "  <thead>\n",
       "    <tr style=\"text-align: right;\">\n",
       "      <th></th>\n",
       "      <th>count</th>\n",
       "      <th>day_of_week</th>\n",
       "    </tr>\n",
       "    <tr>\n",
       "      <th>Date_received</th>\n",
       "      <th></th>\n",
       "      <th></th>\n",
       "    </tr>\n",
       "  </thead>\n",
       "  <tbody>\n",
       "    <tr>\n",
       "      <th>2011-12-01</th>\n",
       "      <td>136</td>\n",
       "      <td>3</td>\n",
       "    </tr>\n",
       "    <tr>\n",
       "      <th>2011-12-02</th>\n",
       "      <td>130</td>\n",
       "      <td>4</td>\n",
       "    </tr>\n",
       "    <tr>\n",
       "      <th>2011-12-03</th>\n",
       "      <td>25</td>\n",
       "      <td>5</td>\n",
       "    </tr>\n",
       "    <tr>\n",
       "      <th>2011-12-04</th>\n",
       "      <td>25</td>\n",
       "      <td>6</td>\n",
       "    </tr>\n",
       "    <tr>\n",
       "      <th>2011-12-05</th>\n",
       "      <td>183</td>\n",
       "      <td>0</td>\n",
       "    </tr>\n",
       "  </tbody>\n",
       "</table>\n",
       "</div>"
      ],
      "text/plain": [
       "               count  day_of_week\n",
       "Date_received                    \n",
       "2011-12-01       136            3\n",
       "2011-12-02       130            4\n",
       "2011-12-03        25            5\n",
       "2011-12-04        25            6\n",
       "2011-12-05       183            0"
      ]
     },
     "execution_count": 140,
     "metadata": {},
     "output_type": "execute_result"
    }
   ],
   "source": [
    "data_by_day.head()"
   ]
  },
  {
   "cell_type": "code",
   "execution_count": 143,
   "metadata": {
    "collapsed": false
   },
   "outputs": [],
   "source": [
    "new_data_by_day = data_by_day.groupby(\"day_of_week\").mean()"
   ]
  },
  {
   "cell_type": "code",
   "execution_count": 144,
   "metadata": {
    "collapsed": false
   },
   "outputs": [
    {
     "data": {
      "text/html": [
       "<div style=\"max-height:1000px;max-width:1500px;overflow:auto;\">\n",
       "<table border=\"1\" class=\"dataframe\">\n",
       "  <thead>\n",
       "    <tr style=\"text-align: right;\">\n",
       "      <th></th>\n",
       "      <th>count</th>\n",
       "    </tr>\n",
       "    <tr>\n",
       "      <th>day_of_week</th>\n",
       "      <th></th>\n",
       "    </tr>\n",
       "  </thead>\n",
       "  <tbody>\n",
       "    <tr>\n",
       "      <th>0</th>\n",
       "      <td>396.204420</td>\n",
       "    </tr>\n",
       "    <tr>\n",
       "      <th>1</th>\n",
       "      <td>412.082873</td>\n",
       "    </tr>\n",
       "    <tr>\n",
       "      <th>2</th>\n",
       "      <td>422.933702</td>\n",
       "    </tr>\n",
       "    <tr>\n",
       "      <th>3</th>\n",
       "      <td>402.219780</td>\n",
       "    </tr>\n",
       "    <tr>\n",
       "      <th>4</th>\n",
       "      <td>353.186813</td>\n",
       "    </tr>\n",
       "    <tr>\n",
       "      <th>5</th>\n",
       "      <td>106.154696</td>\n",
       "    </tr>\n",
       "    <tr>\n",
       "      <th>6</th>\n",
       "      <td>90.077348</td>\n",
       "    </tr>\n",
       "  </tbody>\n",
       "</table>\n",
       "</div>"
      ],
      "text/plain": [
       "                  count\n",
       "day_of_week            \n",
       "0            396.204420\n",
       "1            412.082873\n",
       "2            422.933702\n",
       "3            402.219780\n",
       "4            353.186813\n",
       "5            106.154696\n",
       "6             90.077348"
      ]
     },
     "execution_count": 144,
     "metadata": {},
     "output_type": "execute_result"
    }
   ],
   "source": [
    "new_data_by_day"
   ]
  },
  {
   "cell_type": "code",
   "execution_count": 145,
   "metadata": {
    "collapsed": true
   },
   "outputs": [],
   "source": [
    "new_data_by_day.index = dow"
   ]
  },
  {
   "cell_type": "code",
   "execution_count": 146,
   "metadata": {
    "collapsed": false
   },
   "outputs": [
    {
     "data": {
      "text/html": [
       "<div style=\"max-height:1000px;max-width:1500px;overflow:auto;\">\n",
       "<table border=\"1\" class=\"dataframe\">\n",
       "  <thead>\n",
       "    <tr style=\"text-align: right;\">\n",
       "      <th></th>\n",
       "      <th>count</th>\n",
       "    </tr>\n",
       "  </thead>\n",
       "  <tbody>\n",
       "    <tr>\n",
       "      <th>M</th>\n",
       "      <td>396.204420</td>\n",
       "    </tr>\n",
       "    <tr>\n",
       "      <th>Tu</th>\n",
       "      <td>412.082873</td>\n",
       "    </tr>\n",
       "    <tr>\n",
       "      <th>W</th>\n",
       "      <td>422.933702</td>\n",
       "    </tr>\n",
       "    <tr>\n",
       "      <th>Th</th>\n",
       "      <td>402.219780</td>\n",
       "    </tr>\n",
       "    <tr>\n",
       "      <th>F</th>\n",
       "      <td>353.186813</td>\n",
       "    </tr>\n",
       "    <tr>\n",
       "      <th>Sa</th>\n",
       "      <td>106.154696</td>\n",
       "    </tr>\n",
       "    <tr>\n",
       "      <th>Su</th>\n",
       "      <td>90.077348</td>\n",
       "    </tr>\n",
       "  </tbody>\n",
       "</table>\n",
       "</div>"
      ],
      "text/plain": [
       "         count\n",
       "M   396.204420\n",
       "Tu  412.082873\n",
       "W   422.933702\n",
       "Th  402.219780\n",
       "F   353.186813\n",
       "Sa  106.154696\n",
       "Su   90.077348"
      ]
     },
     "execution_count": 146,
     "metadata": {},
     "output_type": "execute_result"
    }
   ],
   "source": [
    "new_data_by_day"
   ]
  },
  {
   "cell_type": "code",
   "execution_count": 147,
   "metadata": {
    "collapsed": false
   },
   "outputs": [
    {
     "data": {
      "text/plain": [
       "<matplotlib.axes._subplots.AxesSubplot at 0x1292b37f0>"
      ]
     },
     "execution_count": 147,
     "metadata": {},
     "output_type": "execute_result"
    },
    {
     "data": {
      "image/png": "[encoded data removed]",
      "text/plain": [
       "<matplotlib.figure.Figure at 0x1290cc278>"
      ]
     },
     "metadata": {},
     "output_type": "display_data"
    }
   ],
   "source": [
    "new_data_by_day.plot(kind=\"bar\", title=\"Mean Number of Complaints by Day of Week\")"
   ]
  },
  {
   "cell_type": "code",
   "execution_count": 149,
   "metadata": {
    "collapsed": false
   },
   "outputs": [],
   "source": [
    "state_data = complaints_data.State.value_counts().sort_index()"
   ]
  },
  {
   "cell_type": "code",
   "execution_count": 165,
   "metadata": {
    "collapsed": false
   },
   "outputs": [
    {
     "data": {
      "text/plain": [
       "<matplotlib.axes._subplots.AxesSubplot at 0x1291b6ba8>"
      ]
     },
     "execution_count": 165,
     "metadata": {},
     "output_type": "execute_result"
    },
    {
     "data": {
      "image/png": "[encoded data removed]",
      "text/plain": [
       "<matplotlib.figure.Figure at 0x11faeb7f0>"
      ]
     },
     "metadata": {},
     "output_type": "display_data"
    }
   ],
   "source": [
    "plt.figure(figsize=(10, 12))\n",
    "state_data.plot(kind='barh')"
   ]
  },
  {
   "cell_type": "code",
   "execution_count": 167,
   "metadata": {
    "collapsed": false
   },
   "outputs": [
    {
     "data": {
      "text/plain": [
       "<matplotlib.axes._subplots.AxesSubplot at 0x11b0b1748>"
      ]
     },
     "execution_count": 167,
     "metadata": {},
     "output_type": "execute_result"
    },
    {
     "data": {
      "image/png": "[encoded data removed]",
      "text/plain": [
       "<matplotlib.figure.Figure at 0x11fba2438>"
      ]
     },
     "metadata": {},
     "output_type": "display_data"
    }
   ],
   "source": [
    "plt.figure(figsize=(12, 6))\n",
    "state_data.plot(kind='bar')"
   ]
  },
  {
   "cell_type": "code",
   "execution_count": 173,
   "metadata": {
    "collapsed": false
   },
   "outputs": [
    {
     "data": {
      "text/html": [
       "<div style=\"max-height:1000px;max-width:1500px;overflow:auto;\">\n",
       "<table border=\"1\" class=\"dataframe\">\n",
       "  <thead>\n",
       "    <tr style=\"text-align: right;\">\n",
       "      <th></th>\n",
       "      <th>Unnamed: 0</th>\n",
       "      <th>Census</th>\n",
       "      <th>Estimates Base</th>\n",
       "      <th>2010</th>\n",
       "      <th>2011</th>\n",
       "      <th>2012</th>\n",
       "      <th>2013</th>\n",
       "      <th>2014</th>\n",
       "    </tr>\n",
       "  </thead>\n",
       "  <tbody>\n",
       "    <tr>\n",
       "      <th>0</th>\n",
       "      <td>United States</td>\n",
       "      <td>308,745,538</td>\n",
       "      <td>308,758,105</td>\n",
       "      <td>309,347,057</td>\n",
       "      <td>311,721,632</td>\n",
       "      <td>314,112,078</td>\n",
       "      <td>316,497,531</td>\n",
       "      <td>318,857,056</td>\n",
       "    </tr>\n",
       "    <tr>\n",
       "      <th>1</th>\n",
       "      <td>Northeast</td>\n",
       "      <td>55,317,240</td>\n",
       "      <td>55,318,348</td>\n",
       "      <td>55,381,690</td>\n",
       "      <td>55,635,670</td>\n",
       "      <td>55,832,038</td>\n",
       "      <td>56,028,220</td>\n",
       "      <td>56,152,333</td>\n",
       "    </tr>\n",
       "    <tr>\n",
       "      <th>2</th>\n",
       "      <td>Midwest</td>\n",
       "      <td>66,927,001</td>\n",
       "      <td>66,929,898</td>\n",
       "      <td>66,972,390</td>\n",
       "      <td>67,149,657</td>\n",
       "      <td>67,331,458</td>\n",
       "      <td>67,567,871</td>\n",
       "      <td>67,745,108</td>\n",
       "    </tr>\n",
       "    <tr>\n",
       "      <th>3</th>\n",
       "      <td>South</td>\n",
       "      <td>114,555,744</td>\n",
       "      <td>114,562,951</td>\n",
       "      <td>114,871,231</td>\n",
       "      <td>116,089,908</td>\n",
       "      <td>117,346,322</td>\n",
       "      <td>118,522,802</td>\n",
       "      <td>119,771,934</td>\n",
       "    </tr>\n",
       "    <tr>\n",
       "      <th>4</th>\n",
       "      <td>West</td>\n",
       "      <td>71,945,553</td>\n",
       "      <td>71,946,908</td>\n",
       "      <td>72,121,746</td>\n",
       "      <td>72,846,397</td>\n",
       "      <td>73,602,260</td>\n",
       "      <td>74,378,638</td>\n",
       "      <td>75,187,681</td>\n",
       "    </tr>\n",
       "    <tr>\n",
       "      <th>5</th>\n",
       "      <td>.Alabama</td>\n",
       "      <td>4,779,736</td>\n",
       "      <td>4,780,127</td>\n",
       "      <td>4,785,822</td>\n",
       "      <td>4,801,695</td>\n",
       "      <td>4,817,484</td>\n",
       "      <td>4,833,996</td>\n",
       "      <td>4,849,377</td>\n",
       "    </tr>\n",
       "    <tr>\n",
       "      <th>6</th>\n",
       "      <td>.Alaska</td>\n",
       "      <td>710,231</td>\n",
       "      <td>710,249</td>\n",
       "      <td>713,856</td>\n",
       "      <td>722,572</td>\n",
       "      <td>731,081</td>\n",
       "      <td>737,259</td>\n",
       "      <td>736,732</td>\n",
       "    </tr>\n",
       "    <tr>\n",
       "      <th>7</th>\n",
       "      <td>.Arizona</td>\n",
       "      <td>6,392,017</td>\n",
       "      <td>6,392,310</td>\n",
       "      <td>6,411,999</td>\n",
       "      <td>6,472,867</td>\n",
       "      <td>6,556,236</td>\n",
       "      <td>6,634,997</td>\n",
       "      <td>6,731,484</td>\n",
       "    </tr>\n",
       "    <tr>\n",
       "      <th>8</th>\n",
       "      <td>.Arkansas</td>\n",
       "      <td>2,915,918</td>\n",
       "      <td>2,915,958</td>\n",
       "      <td>2,922,297</td>\n",
       "      <td>2,938,430</td>\n",
       "      <td>2,949,300</td>\n",
       "      <td>2,958,765</td>\n",
       "      <td>2,966,369</td>\n",
       "    </tr>\n",
       "    <tr>\n",
       "      <th>9</th>\n",
       "      <td>.California</td>\n",
       "      <td>37,253,956</td>\n",
       "      <td>37,254,503</td>\n",
       "      <td>37,336,011</td>\n",
       "      <td>37,701,901</td>\n",
       "      <td>38,062,780</td>\n",
       "      <td>38,431,393</td>\n",
       "      <td>38,802,500</td>\n",
       "    </tr>\n",
       "  </tbody>\n",
       "</table>\n",
       "</div>"
      ],
      "text/plain": [
       "      Unnamed: 0       Census Estimates Base         2010         2011  \\\n",
       "0  United States  308,745,538    308,758,105  309,347,057  311,721,632   \n",
       "1      Northeast   55,317,240     55,318,348   55,381,690   55,635,670   \n",
       "2        Midwest   66,927,001     66,929,898   66,972,390   67,149,657   \n",
       "3          South  114,555,744    114,562,951  114,871,231  116,089,908   \n",
       "4           West   71,945,553     71,946,908   72,121,746   72,846,397   \n",
       "5       .Alabama    4,779,736      4,780,127    4,785,822    4,801,695   \n",
       "6        .Alaska      710,231        710,249      713,856      722,572   \n",
       "7       .Arizona    6,392,017      6,392,310    6,411,999    6,472,867   \n",
       "8      .Arkansas    2,915,918      2,915,958    2,922,297    2,938,430   \n",
       "9    .California   37,253,956     37,254,503   37,336,011   37,701,901   \n",
       "\n",
       "          2012         2013         2014  \n",
       "0  314,112,078  316,497,531  318,857,056  \n",
       "1   55,832,038   56,028,220   56,152,333  \n",
       "2   67,331,458   67,567,871   67,745,108  \n",
       "3  117,346,322  118,522,802  119,771,934  \n",
       "4   73,602,260   74,378,638   75,187,681  \n",
       "5    4,817,484    4,833,996    4,849,377  \n",
       "6      731,081      737,259      736,732  \n",
       "7    6,556,236    6,634,997    6,731,484  \n",
       "8    2,949,300    2,958,765    2,966,369  \n",
       "9   38,062,780   38,431,393   38,802,500  "
      ]
     },
     "execution_count": 173,
     "metadata": {},
     "output_type": "execute_result"
    }
   ],
   "source": [
    "census = pd.read_csv(\"NST-EST2014-01.csv\", header=3)\n",
    "census.head(10)"
   ]
  },
  {
   "cell_type": "code",
   "execution_count": 174,
   "metadata": {
    "collapsed": false
   },
   "outputs": [
    {
     "data": {
      "text/html": [
       "<div style=\"max-height:1000px;max-width:1500px;overflow:auto;\">\n",
       "<table border=\"1\" class=\"dataframe\">\n",
       "  <thead>\n",
       "    <tr style=\"text-align: right;\">\n",
       "      <th></th>\n",
       "      <th>Unnamed: 0</th>\n",
       "      <th>Census</th>\n",
       "      <th>Estimates Base</th>\n",
       "      <th>2010</th>\n",
       "      <th>2011</th>\n",
       "      <th>2012</th>\n",
       "      <th>2013</th>\n",
       "      <th>2014</th>\n",
       "    </tr>\n",
       "  </thead>\n",
       "  <tbody>\n",
       "    <tr>\n",
       "      <th>5</th>\n",
       "      <td>.Alabama</td>\n",
       "      <td>4,779,736</td>\n",
       "      <td>4,780,127</td>\n",
       "      <td>4,785,822</td>\n",
       "      <td>4,801,695</td>\n",
       "      <td>4,817,484</td>\n",
       "      <td>4,833,996</td>\n",
       "      <td>4,849,377</td>\n",
       "    </tr>\n",
       "    <tr>\n",
       "      <th>6</th>\n",
       "      <td>.Alaska</td>\n",
       "      <td>710,231</td>\n",
       "      <td>710,249</td>\n",
       "      <td>713,856</td>\n",
       "      <td>722,572</td>\n",
       "      <td>731,081</td>\n",
       "      <td>737,259</td>\n",
       "      <td>736,732</td>\n",
       "    </tr>\n",
       "    <tr>\n",
       "      <th>7</th>\n",
       "      <td>.Arizona</td>\n",
       "      <td>6,392,017</td>\n",
       "      <td>6,392,310</td>\n",
       "      <td>6,411,999</td>\n",
       "      <td>6,472,867</td>\n",
       "      <td>6,556,236</td>\n",
       "      <td>6,634,997</td>\n",
       "      <td>6,731,484</td>\n",
       "    </tr>\n",
       "    <tr>\n",
       "      <th>8</th>\n",
       "      <td>.Arkansas</td>\n",
       "      <td>2,915,918</td>\n",
       "      <td>2,915,958</td>\n",
       "      <td>2,922,297</td>\n",
       "      <td>2,938,430</td>\n",
       "      <td>2,949,300</td>\n",
       "      <td>2,958,765</td>\n",
       "      <td>2,966,369</td>\n",
       "    </tr>\n",
       "    <tr>\n",
       "      <th>9</th>\n",
       "      <td>.California</td>\n",
       "      <td>37,253,956</td>\n",
       "      <td>37,254,503</td>\n",
       "      <td>37,336,011</td>\n",
       "      <td>37,701,901</td>\n",
       "      <td>38,062,780</td>\n",
       "      <td>38,431,393</td>\n",
       "      <td>38,802,500</td>\n",
       "    </tr>\n",
       "  </tbody>\n",
       "</table>\n",
       "</div>"
      ],
      "text/plain": [
       "    Unnamed: 0      Census Estimates Base        2010        2011        2012  \\\n",
       "5     .Alabama   4,779,736      4,780,127   4,785,822   4,801,695   4,817,484   \n",
       "6      .Alaska     710,231        710,249     713,856     722,572     731,081   \n",
       "7     .Arizona   6,392,017      6,392,310   6,411,999   6,472,867   6,556,236   \n",
       "8    .Arkansas   2,915,918      2,915,958   2,922,297   2,938,430   2,949,300   \n",
       "9  .California  37,253,956     37,254,503  37,336,011  37,701,901  38,062,780   \n",
       "\n",
       "         2013        2014  \n",
       "5   4,833,996   4,849,377  \n",
       "6     737,259     736,732  \n",
       "7   6,634,997   6,731,484  \n",
       "8   2,958,765   2,966,369  \n",
       "9  38,431,393  38,802,500  "
      ]
     },
     "execution_count": 174,
     "metadata": {},
     "output_type": "execute_result"
    }
   ],
   "source": [
    "states = census[5:]\n",
    "states.head()"
   ]
  },
  {
   "cell_type": "code",
   "execution_count": 175,
   "metadata": {
    "collapsed": false
   },
   "outputs": [
    {
     "data": {
      "text/html": [
       "<div style=\"max-height:1000px;max-width:1500px;overflow:auto;\">\n",
       "<table border=\"1\" class=\"dataframe\">\n",
       "  <thead>\n",
       "    <tr style=\"text-align: right;\">\n",
       "      <th></th>\n",
       "      <th>Unnamed: 0</th>\n",
       "      <th>Census</th>\n",
       "      <th>Estimates Base</th>\n",
       "      <th>2010</th>\n",
       "      <th>2011</th>\n",
       "      <th>2012</th>\n",
       "      <th>2013</th>\n",
       "      <th>2014</th>\n",
       "    </tr>\n",
       "  </thead>\n",
       "  <tbody>\n",
       "    <tr>\n",
       "      <th>5</th>\n",
       "      <td>.Alabama</td>\n",
       "      <td>4,779,736</td>\n",
       "      <td>4,780,127</td>\n",
       "      <td>4,785,822</td>\n",
       "      <td>4,801,695</td>\n",
       "      <td>4,817,484</td>\n",
       "      <td>4,833,996</td>\n",
       "      <td>4,849,377</td>\n",
       "    </tr>\n",
       "    <tr>\n",
       "      <th>6</th>\n",
       "      <td>.Alaska</td>\n",
       "      <td>710,231</td>\n",
       "      <td>710,249</td>\n",
       "      <td>713,856</td>\n",
       "      <td>722,572</td>\n",
       "      <td>731,081</td>\n",
       "      <td>737,259</td>\n",
       "      <td>736,732</td>\n",
       "    </tr>\n",
       "    <tr>\n",
       "      <th>7</th>\n",
       "      <td>.Arizona</td>\n",
       "      <td>6,392,017</td>\n",
       "      <td>6,392,310</td>\n",
       "      <td>6,411,999</td>\n",
       "      <td>6,472,867</td>\n",
       "      <td>6,556,236</td>\n",
       "      <td>6,634,997</td>\n",
       "      <td>6,731,484</td>\n",
       "    </tr>\n",
       "    <tr>\n",
       "      <th>8</th>\n",
       "      <td>.Arkansas</td>\n",
       "      <td>2,915,918</td>\n",
       "      <td>2,915,958</td>\n",
       "      <td>2,922,297</td>\n",
       "      <td>2,938,430</td>\n",
       "      <td>2,949,300</td>\n",
       "      <td>2,958,765</td>\n",
       "      <td>2,966,369</td>\n",
       "    </tr>\n",
       "    <tr>\n",
       "      <th>9</th>\n",
       "      <td>.California</td>\n",
       "      <td>37,253,956</td>\n",
       "      <td>37,254,503</td>\n",
       "      <td>37,336,011</td>\n",
       "      <td>37,701,901</td>\n",
       "      <td>38,062,780</td>\n",
       "      <td>38,431,393</td>\n",
       "      <td>38,802,500</td>\n",
       "    </tr>\n",
       "    <tr>\n",
       "      <th>10</th>\n",
       "      <td>.Colorado</td>\n",
       "      <td>5,029,196</td>\n",
       "      <td>5,029,324</td>\n",
       "      <td>5,048,575</td>\n",
       "      <td>5,119,661</td>\n",
       "      <td>5,191,709</td>\n",
       "      <td>5,272,086</td>\n",
       "      <td>5,355,866</td>\n",
       "    </tr>\n",
       "    <tr>\n",
       "      <th>11</th>\n",
       "      <td>.Connecticut</td>\n",
       "      <td>3,574,097</td>\n",
       "      <td>3,574,096</td>\n",
       "      <td>3,579,345</td>\n",
       "      <td>3,590,537</td>\n",
       "      <td>3,594,362</td>\n",
       "      <td>3,599,341</td>\n",
       "      <td>3,596,677</td>\n",
       "    </tr>\n",
       "    <tr>\n",
       "      <th>12</th>\n",
       "      <td>.Delaware</td>\n",
       "      <td>897,934</td>\n",
       "      <td>897,936</td>\n",
       "      <td>899,731</td>\n",
       "      <td>907,829</td>\n",
       "      <td>916,881</td>\n",
       "      <td>925,240</td>\n",
       "      <td>935,614</td>\n",
       "    </tr>\n",
       "    <tr>\n",
       "      <th>13</th>\n",
       "      <td>.District of Columbia</td>\n",
       "      <td>601,723</td>\n",
       "      <td>601,767</td>\n",
       "      <td>605,210</td>\n",
       "      <td>620,427</td>\n",
       "      <td>635,040</td>\n",
       "      <td>649,111</td>\n",
       "      <td>658,893</td>\n",
       "    </tr>\n",
       "    <tr>\n",
       "      <th>14</th>\n",
       "      <td>.Florida</td>\n",
       "      <td>18,801,310</td>\n",
       "      <td>18,804,623</td>\n",
       "      <td>18,852,220</td>\n",
       "      <td>19,107,900</td>\n",
       "      <td>19,355,257</td>\n",
       "      <td>19,600,311</td>\n",
       "      <td>19,893,297</td>\n",
       "    </tr>\n",
       "    <tr>\n",
       "      <th>15</th>\n",
       "      <td>.Georgia</td>\n",
       "      <td>9,687,653</td>\n",
       "      <td>9,688,681</td>\n",
       "      <td>9,714,464</td>\n",
       "      <td>9,813,201</td>\n",
       "      <td>9,919,000</td>\n",
       "      <td>9,994,759</td>\n",
       "      <td>10,097,343</td>\n",
       "    </tr>\n",
       "    <tr>\n",
       "      <th>16</th>\n",
       "      <td>.Hawaii</td>\n",
       "      <td>1,360,301</td>\n",
       "      <td>1,360,301</td>\n",
       "      <td>1,363,950</td>\n",
       "      <td>1,378,251</td>\n",
       "      <td>1,392,766</td>\n",
       "      <td>1,408,987</td>\n",
       "      <td>1,419,561</td>\n",
       "    </tr>\n",
       "    <tr>\n",
       "      <th>17</th>\n",
       "      <td>.Idaho</td>\n",
       "      <td>1,567,582</td>\n",
       "      <td>1,567,652</td>\n",
       "      <td>1,570,639</td>\n",
       "      <td>1,583,780</td>\n",
       "      <td>1,595,590</td>\n",
       "      <td>1,612,843</td>\n",
       "      <td>1,634,464</td>\n",
       "    </tr>\n",
       "    <tr>\n",
       "      <th>18</th>\n",
       "      <td>.Illinois</td>\n",
       "      <td>12,830,632</td>\n",
       "      <td>12,831,587</td>\n",
       "      <td>12,840,097</td>\n",
       "      <td>12,858,725</td>\n",
       "      <td>12,873,763</td>\n",
       "      <td>12,890,552</td>\n",
       "      <td>12,880,580</td>\n",
       "    </tr>\n",
       "    <tr>\n",
       "      <th>19</th>\n",
       "      <td>.Indiana</td>\n",
       "      <td>6,483,802</td>\n",
       "      <td>6,484,192</td>\n",
       "      <td>6,490,308</td>\n",
       "      <td>6,516,560</td>\n",
       "      <td>6,537,632</td>\n",
       "      <td>6,570,713</td>\n",
       "      <td>6,596,855</td>\n",
       "    </tr>\n",
       "    <tr>\n",
       "      <th>20</th>\n",
       "      <td>.Iowa</td>\n",
       "      <td>3,046,355</td>\n",
       "      <td>3,046,869</td>\n",
       "      <td>3,050,295</td>\n",
       "      <td>3,064,904</td>\n",
       "      <td>3,075,935</td>\n",
       "      <td>3,092,341</td>\n",
       "      <td>3,107,126</td>\n",
       "    </tr>\n",
       "    <tr>\n",
       "      <th>21</th>\n",
       "      <td>.Kansas</td>\n",
       "      <td>2,853,118</td>\n",
       "      <td>2,853,132</td>\n",
       "      <td>2,858,949</td>\n",
       "      <td>2,869,965</td>\n",
       "      <td>2,885,966</td>\n",
       "      <td>2,895,801</td>\n",
       "      <td>2,904,021</td>\n",
       "    </tr>\n",
       "    <tr>\n",
       "      <th>22</th>\n",
       "      <td>.Kentucky</td>\n",
       "      <td>4,339,367</td>\n",
       "      <td>4,339,349</td>\n",
       "      <td>4,349,838</td>\n",
       "      <td>4,370,038</td>\n",
       "      <td>4,383,465</td>\n",
       "      <td>4,399,583</td>\n",
       "      <td>4,413,457</td>\n",
       "    </tr>\n",
       "    <tr>\n",
       "      <th>23</th>\n",
       "      <td>.Louisiana</td>\n",
       "      <td>4,533,372</td>\n",
       "      <td>4,533,479</td>\n",
       "      <td>4,545,581</td>\n",
       "      <td>4,575,972</td>\n",
       "      <td>4,604,744</td>\n",
       "      <td>4,629,284</td>\n",
       "      <td>4,649,676</td>\n",
       "    </tr>\n",
       "    <tr>\n",
       "      <th>24</th>\n",
       "      <td>.Maine</td>\n",
       "      <td>1,328,361</td>\n",
       "      <td>1,328,361</td>\n",
       "      <td>1,327,361</td>\n",
       "      <td>1,327,930</td>\n",
       "      <td>1,328,592</td>\n",
       "      <td>1,328,702</td>\n",
       "      <td>1,330,089</td>\n",
       "    </tr>\n",
       "    <tr>\n",
       "      <th>25</th>\n",
       "      <td>.Maryland</td>\n",
       "      <td>5,773,552</td>\n",
       "      <td>5,773,785</td>\n",
       "      <td>5,788,101</td>\n",
       "      <td>5,843,833</td>\n",
       "      <td>5,891,819</td>\n",
       "      <td>5,938,737</td>\n",
       "      <td>5,976,407</td>\n",
       "    </tr>\n",
       "    <tr>\n",
       "      <th>26</th>\n",
       "      <td>.Massachusetts</td>\n",
       "      <td>6,547,629</td>\n",
       "      <td>6,547,817</td>\n",
       "      <td>6,564,073</td>\n",
       "      <td>6,612,270</td>\n",
       "      <td>6,655,829</td>\n",
       "      <td>6,708,874</td>\n",
       "      <td>6,745,408</td>\n",
       "    </tr>\n",
       "    <tr>\n",
       "      <th>27</th>\n",
       "      <td>.Michigan</td>\n",
       "      <td>9,883,640</td>\n",
       "      <td>9,884,133</td>\n",
       "      <td>9,876,498</td>\n",
       "      <td>9,875,736</td>\n",
       "      <td>9,884,781</td>\n",
       "      <td>9,898,193</td>\n",
       "      <td>9,909,877</td>\n",
       "    </tr>\n",
       "    <tr>\n",
       "      <th>28</th>\n",
       "      <td>.Minnesota</td>\n",
       "      <td>5,303,925</td>\n",
       "      <td>5,303,925</td>\n",
       "      <td>5,310,418</td>\n",
       "      <td>5,348,036</td>\n",
       "      <td>5,380,615</td>\n",
       "      <td>5,422,060</td>\n",
       "      <td>5,457,173</td>\n",
       "    </tr>\n",
       "    <tr>\n",
       "      <th>29</th>\n",
       "      <td>.Mississippi</td>\n",
       "      <td>2,967,297</td>\n",
       "      <td>2,968,103</td>\n",
       "      <td>2,970,811</td>\n",
       "      <td>2,978,464</td>\n",
       "      <td>2,986,137</td>\n",
       "      <td>2,992,206</td>\n",
       "      <td>2,994,079</td>\n",
       "    </tr>\n",
       "    <tr>\n",
       "      <th>30</th>\n",
       "      <td>.Missouri</td>\n",
       "      <td>5,988,927</td>\n",
       "      <td>5,988,923</td>\n",
       "      <td>5,996,085</td>\n",
       "      <td>6,010,544</td>\n",
       "      <td>6,025,281</td>\n",
       "      <td>6,044,917</td>\n",
       "      <td>6,063,589</td>\n",
       "    </tr>\n",
       "    <tr>\n",
       "      <th>31</th>\n",
       "      <td>.Montana</td>\n",
       "      <td>989,415</td>\n",
       "      <td>989,417</td>\n",
       "      <td>990,575</td>\n",
       "      <td>997,661</td>\n",
       "      <td>1,005,163</td>\n",
       "      <td>1,014,864</td>\n",
       "      <td>1,023,579</td>\n",
       "    </tr>\n",
       "    <tr>\n",
       "      <th>32</th>\n",
       "      <td>.Nebraska</td>\n",
       "      <td>1,826,341</td>\n",
       "      <td>1,826,341</td>\n",
       "      <td>1,829,865</td>\n",
       "      <td>1,842,232</td>\n",
       "      <td>1,855,487</td>\n",
       "      <td>1,868,969</td>\n",
       "      <td>1,881,503</td>\n",
       "    </tr>\n",
       "    <tr>\n",
       "      <th>33</th>\n",
       "      <td>.Nevada</td>\n",
       "      <td>2,700,551</td>\n",
       "      <td>2,700,692</td>\n",
       "      <td>2,703,493</td>\n",
       "      <td>2,718,586</td>\n",
       "      <td>2,755,245</td>\n",
       "      <td>2,791,494</td>\n",
       "      <td>2,839,099</td>\n",
       "    </tr>\n",
       "    <tr>\n",
       "      <th>34</th>\n",
       "      <td>.New Hampshire</td>\n",
       "      <td>1,316,470</td>\n",
       "      <td>1,316,466</td>\n",
       "      <td>1,316,517</td>\n",
       "      <td>1,318,109</td>\n",
       "      <td>1,321,297</td>\n",
       "      <td>1,322,616</td>\n",
       "      <td>1,326,813</td>\n",
       "    </tr>\n",
       "    <tr>\n",
       "      <th>35</th>\n",
       "      <td>.New Jersey</td>\n",
       "      <td>8,791,894</td>\n",
       "      <td>8,791,936</td>\n",
       "      <td>8,803,580</td>\n",
       "      <td>8,842,614</td>\n",
       "      <td>8,876,000</td>\n",
       "      <td>8,911,502</td>\n",
       "      <td>8,938,175</td>\n",
       "    </tr>\n",
       "    <tr>\n",
       "      <th>36</th>\n",
       "      <td>.New Mexico</td>\n",
       "      <td>2,059,179</td>\n",
       "      <td>2,059,192</td>\n",
       "      <td>2,064,950</td>\n",
       "      <td>2,078,407</td>\n",
       "      <td>2,084,594</td>\n",
       "      <td>2,086,895</td>\n",
       "      <td>2,085,572</td>\n",
       "    </tr>\n",
       "    <tr>\n",
       "      <th>37</th>\n",
       "      <td>.New York</td>\n",
       "      <td>19,378,102</td>\n",
       "      <td>19,378,112</td>\n",
       "      <td>19,400,867</td>\n",
       "      <td>19,521,745</td>\n",
       "      <td>19,607,140</td>\n",
       "      <td>19,695,680</td>\n",
       "      <td>19,746,227</td>\n",
       "    </tr>\n",
       "    <tr>\n",
       "      <th>38</th>\n",
       "      <td>.North Carolina</td>\n",
       "      <td>9,535,483</td>\n",
       "      <td>9,535,691</td>\n",
       "      <td>9,559,488</td>\n",
       "      <td>9,651,502</td>\n",
       "      <td>9,748,181</td>\n",
       "      <td>9,848,917</td>\n",
       "      <td>9,943,964</td>\n",
       "    </tr>\n",
       "    <tr>\n",
       "      <th>39</th>\n",
       "      <td>.North Dakota</td>\n",
       "      <td>672,591</td>\n",
       "      <td>672,591</td>\n",
       "      <td>674,345</td>\n",
       "      <td>685,242</td>\n",
       "      <td>701,705</td>\n",
       "      <td>723,857</td>\n",
       "      <td>739,482</td>\n",
       "    </tr>\n",
       "    <tr>\n",
       "      <th>40</th>\n",
       "      <td>.Ohio</td>\n",
       "      <td>11,536,504</td>\n",
       "      <td>11,536,725</td>\n",
       "      <td>11,540,070</td>\n",
       "      <td>11,544,757</td>\n",
       "      <td>11,550,901</td>\n",
       "      <td>11,572,005</td>\n",
       "      <td>11,594,163</td>\n",
       "    </tr>\n",
       "    <tr>\n",
       "      <th>41</th>\n",
       "      <td>.Oklahoma</td>\n",
       "      <td>3,751,351</td>\n",
       "      <td>3,751,616</td>\n",
       "      <td>3,759,481</td>\n",
       "      <td>3,786,527</td>\n",
       "      <td>3,817,059</td>\n",
       "      <td>3,853,118</td>\n",
       "      <td>3,878,051</td>\n",
       "    </tr>\n",
       "    <tr>\n",
       "      <th>42</th>\n",
       "      <td>.Oregon</td>\n",
       "      <td>3,831,074</td>\n",
       "      <td>3,831,073</td>\n",
       "      <td>3,837,083</td>\n",
       "      <td>3,867,644</td>\n",
       "      <td>3,898,684</td>\n",
       "      <td>3,928,068</td>\n",
       "      <td>3,970,239</td>\n",
       "    </tr>\n",
       "    <tr>\n",
       "      <th>43</th>\n",
       "      <td>.Pennsylvania</td>\n",
       "      <td>12,702,379</td>\n",
       "      <td>12,702,884</td>\n",
       "      <td>12,711,077</td>\n",
       "      <td>12,743,995</td>\n",
       "      <td>12,770,043</td>\n",
       "      <td>12,781,296</td>\n",
       "      <td>12,787,209</td>\n",
       "    </tr>\n",
       "    <tr>\n",
       "      <th>44</th>\n",
       "      <td>.Rhode Island</td>\n",
       "      <td>1,052,567</td>\n",
       "      <td>1,052,931</td>\n",
       "      <td>1,053,078</td>\n",
       "      <td>1,052,020</td>\n",
       "      <td>1,052,637</td>\n",
       "      <td>1,053,354</td>\n",
       "      <td>1,055,173</td>\n",
       "    </tr>\n",
       "    <tr>\n",
       "      <th>45</th>\n",
       "      <td>.South Carolina</td>\n",
       "      <td>4,625,364</td>\n",
       "      <td>4,625,401</td>\n",
       "      <td>4,636,290</td>\n",
       "      <td>4,673,054</td>\n",
       "      <td>4,722,621</td>\n",
       "      <td>4,771,929</td>\n",
       "      <td>4,832,482</td>\n",
       "    </tr>\n",
       "    <tr>\n",
       "      <th>46</th>\n",
       "      <td>.South Dakota</td>\n",
       "      <td>814,180</td>\n",
       "      <td>814,191</td>\n",
       "      <td>816,192</td>\n",
       "      <td>824,171</td>\n",
       "      <td>834,504</td>\n",
       "      <td>845,510</td>\n",
       "      <td>853,175</td>\n",
       "    </tr>\n",
       "    <tr>\n",
       "      <th>47</th>\n",
       "      <td>.Tennessee</td>\n",
       "      <td>6,346,105</td>\n",
       "      <td>6,346,275</td>\n",
       "      <td>6,356,628</td>\n",
       "      <td>6,398,389</td>\n",
       "      <td>6,455,177</td>\n",
       "      <td>6,497,269</td>\n",
       "      <td>6,549,352</td>\n",
       "    </tr>\n",
       "    <tr>\n",
       "      <th>48</th>\n",
       "      <td>.Texas</td>\n",
       "      <td>25,145,561</td>\n",
       "      <td>25,146,104</td>\n",
       "      <td>25,245,717</td>\n",
       "      <td>25,657,477</td>\n",
       "      <td>26,094,422</td>\n",
       "      <td>26,505,637</td>\n",
       "      <td>26,956,958</td>\n",
       "    </tr>\n",
       "    <tr>\n",
       "      <th>49</th>\n",
       "      <td>.Utah</td>\n",
       "      <td>2,763,885</td>\n",
       "      <td>2,763,885</td>\n",
       "      <td>2,774,346</td>\n",
       "      <td>2,815,324</td>\n",
       "      <td>2,855,194</td>\n",
       "      <td>2,902,787</td>\n",
       "      <td>2,942,902</td>\n",
       "    </tr>\n",
       "    <tr>\n",
       "      <th>50</th>\n",
       "      <td>.Vermont</td>\n",
       "      <td>625,741</td>\n",
       "      <td>625,745</td>\n",
       "      <td>625,792</td>\n",
       "      <td>626,450</td>\n",
       "      <td>626,138</td>\n",
       "      <td>626,855</td>\n",
       "      <td>626,562</td>\n",
       "    </tr>\n",
       "    <tr>\n",
       "      <th>51</th>\n",
       "      <td>.Virginia</td>\n",
       "      <td>8,001,024</td>\n",
       "      <td>8,001,023</td>\n",
       "      <td>8,025,376</td>\n",
       "      <td>8,110,188</td>\n",
       "      <td>8,193,422</td>\n",
       "      <td>8,270,345</td>\n",
       "      <td>8,326,289</td>\n",
       "    </tr>\n",
       "    <tr>\n",
       "      <th>52</th>\n",
       "      <td>.Washington</td>\n",
       "      <td>6,724,540</td>\n",
       "      <td>6,724,543</td>\n",
       "      <td>6,741,911</td>\n",
       "      <td>6,822,112</td>\n",
       "      <td>6,896,325</td>\n",
       "      <td>6,973,742</td>\n",
       "      <td>7,061,530</td>\n",
       "    </tr>\n",
       "    <tr>\n",
       "      <th>53</th>\n",
       "      <td>.West Virginia</td>\n",
       "      <td>1,852,994</td>\n",
       "      <td>1,853,033</td>\n",
       "      <td>1,854,176</td>\n",
       "      <td>1,854,982</td>\n",
       "      <td>1,856,313</td>\n",
       "      <td>1,853,595</td>\n",
       "      <td>1,850,326</td>\n",
       "    </tr>\n",
       "    <tr>\n",
       "      <th>54</th>\n",
       "      <td>.Wisconsin</td>\n",
       "      <td>5,686,986</td>\n",
       "      <td>5,687,289</td>\n",
       "      <td>5,689,268</td>\n",
       "      <td>5,708,785</td>\n",
       "      <td>5,724,888</td>\n",
       "      <td>5,742,953</td>\n",
       "      <td>5,757,564</td>\n",
       "    </tr>\n",
       "    <tr>\n",
       "      <th>55</th>\n",
       "      <td>.Wyoming</td>\n",
       "      <td>563,626</td>\n",
       "      <td>563,767</td>\n",
       "      <td>564,358</td>\n",
       "      <td>567,631</td>\n",
       "      <td>576,893</td>\n",
       "      <td>583,223</td>\n",
       "      <td>584,153</td>\n",
       "    </tr>\n",
       "    <tr>\n",
       "      <th>56</th>\n",
       "      <td>NaN</td>\n",
       "      <td>NaN</td>\n",
       "      <td>NaN</td>\n",
       "      <td>NaN</td>\n",
       "      <td>NaN</td>\n",
       "      <td>NaN</td>\n",
       "      <td>NaN</td>\n",
       "      <td>NaN</td>\n",
       "    </tr>\n",
       "    <tr>\n",
       "      <th>57</th>\n",
       "      <td>Puerto Rico</td>\n",
       "      <td>3,725,789</td>\n",
       "      <td>3,726,157</td>\n",
       "      <td>3,721,527</td>\n",
       "      <td>3,686,771</td>\n",
       "      <td>3,642,281</td>\n",
       "      <td>3,595,839</td>\n",
       "      <td>3,548,397</td>\n",
       "    </tr>\n",
       "    <tr>\n",
       "      <th>58</th>\n",
       "      <td>Note: The estimates are based on the 2010 Cens...</td>\n",
       "      <td>NaN</td>\n",
       "      <td>NaN</td>\n",
       "      <td>NaN</td>\n",
       "      <td>NaN</td>\n",
       "      <td>NaN</td>\n",
       "      <td>NaN</td>\n",
       "      <td>NaN</td>\n",
       "    </tr>\n",
       "    <tr>\n",
       "      <th>59</th>\n",
       "      <td>Suggested Citation:</td>\n",
       "      <td>NaN</td>\n",
       "      <td>NaN</td>\n",
       "      <td>NaN</td>\n",
       "      <td>NaN</td>\n",
       "      <td>NaN</td>\n",
       "      <td>NaN</td>\n",
       "      <td>NaN</td>\n",
       "    </tr>\n",
       "    <tr>\n",
       "      <th>60</th>\n",
       "      <td>Table 1. Annual Estimates of the Resident Popu...</td>\n",
       "      <td>NaN</td>\n",
       "      <td>NaN</td>\n",
       "      <td>NaN</td>\n",
       "      <td>NaN</td>\n",
       "      <td>NaN</td>\n",
       "      <td>NaN</td>\n",
       "      <td>NaN</td>\n",
       "    </tr>\n",
       "    <tr>\n",
       "      <th>61</th>\n",
       "      <td>Source: U.S. Census Bureau, Population Division</td>\n",
       "      <td>NaN</td>\n",
       "      <td>NaN</td>\n",
       "      <td>NaN</td>\n",
       "      <td>NaN</td>\n",
       "      <td>NaN</td>\n",
       "      <td>NaN</td>\n",
       "      <td>NaN</td>\n",
       "    </tr>\n",
       "    <tr>\n",
       "      <th>62</th>\n",
       "      <td>Release Date: December 2014</td>\n",
       "      <td>NaN</td>\n",
       "      <td>NaN</td>\n",
       "      <td>NaN</td>\n",
       "      <td>NaN</td>\n",
       "      <td>NaN</td>\n",
       "      <td>NaN</td>\n",
       "      <td>NaN</td>\n",
       "    </tr>\n",
       "  </tbody>\n",
       "</table>\n",
       "</div>"
      ],
      "text/plain": [
       "                                           Unnamed: 0      Census  \\\n",
       "5                                            .Alabama   4,779,736   \n",
       "6                                             .Alaska     710,231   \n",
       "7                                            .Arizona   6,392,017   \n",
       "8                                           .Arkansas   2,915,918   \n",
       "9                                         .California  37,253,956   \n",
       "10                                          .Colorado   5,029,196   \n",
       "11                                       .Connecticut   3,574,097   \n",
       "12                                          .Delaware     897,934   \n",
       "13                              .District of Columbia     601,723   \n",
       "14                                           .Florida  18,801,310   \n",
       "15                                           .Georgia   9,687,653   \n",
       "16                                            .Hawaii   1,360,301   \n",
       "17                                             .Idaho   1,567,582   \n",
       "18                                          .Illinois  12,830,632   \n",
       "19                                           .Indiana   6,483,802   \n",
       "20                                              .Iowa   3,046,355   \n",
       "21                                            .Kansas   2,853,118   \n",
       "22                                          .Kentucky   4,339,367   \n",
       "23                                         .Louisiana   4,533,372   \n",
       "24                                             .Maine   1,328,361   \n",
       "25                                          .Maryland   5,773,552   \n",
       "26                                     .Massachusetts   6,547,629   \n",
       "27                                          .Michigan   9,883,640   \n",
       "28                                         .Minnesota   5,303,925   \n",
       "29                                       .Mississippi   2,967,297   \n",
       "30                                          .Missouri   5,988,927   \n",
       "31                                           .Montana     989,415   \n",
       "32                                          .Nebraska   1,826,341   \n",
       "33                                            .Nevada   2,700,551   \n",
       "34                                     .New Hampshire   1,316,470   \n",
       "35                                        .New Jersey   8,791,894   \n",
       "36                                        .New Mexico   2,059,179   \n",
       "37                                          .New York  19,378,102   \n",
       "38                                    .North Carolina   9,535,483   \n",
       "39                                      .North Dakota     672,591   \n",
       "40                                              .Ohio  11,536,504   \n",
       "41                                          .Oklahoma   3,751,351   \n",
       "42                                            .Oregon   3,831,074   \n",
       "43                                      .Pennsylvania  12,702,379   \n",
       "44                                      .Rhode Island   1,052,567   \n",
       "45                                    .South Carolina   4,625,364   \n",
       "46                                      .South Dakota     814,180   \n",
       "47                                         .Tennessee   6,346,105   \n",
       "48                                             .Texas  25,145,561   \n",
       "49                                              .Utah   2,763,885   \n",
       "50                                           .Vermont     625,741   \n",
       "51                                          .Virginia   8,001,024   \n",
       "52                                        .Washington   6,724,540   \n",
       "53                                     .West Virginia   1,852,994   \n",
       "54                                         .Wisconsin   5,686,986   \n",
       "55                                           .Wyoming     563,626   \n",
       "56                                                NaN         NaN   \n",
       "57                                        Puerto Rico   3,725,789   \n",
       "58  Note: The estimates are based on the 2010 Cens...         NaN   \n",
       "59                                Suggested Citation:         NaN   \n",
       "60  Table 1. Annual Estimates of the Resident Popu...         NaN   \n",
       "61    Source: U.S. Census Bureau, Population Division         NaN   \n",
       "62                        Release Date: December 2014         NaN   \n",
       "\n",
       "   Estimates Base        2010        2011        2012        2013        2014  \n",
       "5       4,780,127   4,785,822   4,801,695   4,817,484   4,833,996   4,849,377  \n",
       "6         710,249     713,856     722,572     731,081     737,259     736,732  \n",
       "7       6,392,310   6,411,999   6,472,867   6,556,236   6,634,997   6,731,484  \n",
       "8       2,915,958   2,922,297   2,938,430   2,949,300   2,958,765   2,966,369  \n",
       "9      37,254,503  37,336,011  37,701,901  38,062,780  38,431,393  38,802,500  \n",
       "10      5,029,324   5,048,575   5,119,661   5,191,709   5,272,086   5,355,866  \n",
       "11      3,574,096   3,579,345   3,590,537   3,594,362   3,599,341   3,596,677  \n",
       "12        897,936     899,731     907,829     916,881     925,240     935,614  \n",
       "13        601,767     605,210     620,427     635,040     649,111     658,893  \n",
       "14     18,804,623  18,852,220  19,107,900  19,355,257  19,600,311  19,893,297  \n",
       "15      9,688,681   9,714,464   9,813,201   9,919,000   9,994,759  10,097,343  \n",
       "16      1,360,301   1,363,950   1,378,251   1,392,766   1,408,987   1,419,561  \n",
       "17      1,567,652   1,570,639   1,583,780   1,595,590   1,612,843   1,634,464  \n",
       "18     12,831,587  12,840,097  12,858,725  12,873,763  12,890,552  12,880,580  \n",
       "19      6,484,192   6,490,308   6,516,560   6,537,632   6,570,713   6,596,855  \n",
       "20      3,046,869   3,050,295   3,064,904   3,075,935   3,092,341   3,107,126  \n",
       "21      2,853,132   2,858,949   2,869,965   2,885,966   2,895,801   2,904,021  \n",
       "22      4,339,349   4,349,838   4,370,038   4,383,465   4,399,583   4,413,457  \n",
       "23      4,533,479   4,545,581   4,575,972   4,604,744   4,629,284   4,649,676  \n",
       "24      1,328,361   1,327,361   1,327,930   1,328,592   1,328,702   1,330,089  \n",
       "25      5,773,785   5,788,101   5,843,833   5,891,819   5,938,737   5,976,407  \n",
       "26      6,547,817   6,564,073   6,612,270   6,655,829   6,708,874   6,745,408  \n",
       "27      9,884,133   9,876,498   9,875,736   9,884,781   9,898,193   9,909,877  \n",
       "28      5,303,925   5,310,418   5,348,036   5,380,615   5,422,060   5,457,173  \n",
       "29      2,968,103   2,970,811   2,978,464   2,986,137   2,992,206   2,994,079  \n",
       "30      5,988,923   5,996,085   6,010,544   6,025,281   6,044,917   6,063,589  \n",
       "31        989,417     990,575     997,661   1,005,163   1,014,864   1,023,579  \n",
       "32      1,826,341   1,829,865   1,842,232   1,855,487   1,868,969   1,881,503  \n",
       "33      2,700,692   2,703,493   2,718,586   2,755,245   2,791,494   2,839,099  \n",
       "34      1,316,466   1,316,517   1,318,109   1,321,297   1,322,616   1,326,813  \n",
       "35      8,791,936   8,803,580   8,842,614   8,876,000   8,911,502   8,938,175  \n",
       "36      2,059,192   2,064,950   2,078,407   2,084,594   2,086,895   2,085,572  \n",
       "37     19,378,112  19,400,867  19,521,745  19,607,140  19,695,680  19,746,227  \n",
       "38      9,535,691   9,559,488   9,651,502   9,748,181   9,848,917   9,943,964  \n",
       "39        672,591     674,345     685,242     701,705     723,857     739,482  \n",
       "40     11,536,725  11,540,070  11,544,757  11,550,901  11,572,005  11,594,163  \n",
       "41      3,751,616   3,759,481   3,786,527   3,817,059   3,853,118   3,878,051  \n",
       "42      3,831,073   3,837,083   3,867,644   3,898,684   3,928,068   3,970,239  \n",
       "43     12,702,884  12,711,077  12,743,995  12,770,043  12,781,296  12,787,209  \n",
       "44      1,052,931   1,053,078   1,052,020   1,052,637   1,053,354   1,055,173  \n",
       "45      4,625,401   4,636,290   4,673,054   4,722,621   4,771,929   4,832,482  \n",
       "46        814,191     816,192     824,171     834,504     845,510     853,175  \n",
       "47      6,346,275   6,356,628   6,398,389   6,455,177   6,497,269   6,549,352  \n",
       "48     25,146,104  25,245,717  25,657,477  26,094,422  26,505,637  26,956,958  \n",
       "49      2,763,885   2,774,346   2,815,324   2,855,194   2,902,787   2,942,902  \n",
       "50        625,745     625,792     626,450     626,138     626,855     626,562  \n",
       "51      8,001,023   8,025,376   8,110,188   8,193,422   8,270,345   8,326,289  \n",
       "52      6,724,543   6,741,911   6,822,112   6,896,325   6,973,742   7,061,530  \n",
       "53      1,853,033   1,854,176   1,854,982   1,856,313   1,853,595   1,850,326  \n",
       "54      5,687,289   5,689,268   5,708,785   5,724,888   5,742,953   5,757,564  \n",
       "55        563,767     564,358     567,631     576,893     583,223     584,153  \n",
       "56            NaN         NaN         NaN         NaN         NaN         NaN  \n",
       "57      3,726,157   3,721,527   3,686,771   3,642,281   3,595,839   3,548,397  \n",
       "58            NaN         NaN         NaN         NaN         NaN         NaN  \n",
       "59            NaN         NaN         NaN         NaN         NaN         NaN  \n",
       "60            NaN         NaN         NaN         NaN         NaN         NaN  \n",
       "61            NaN         NaN         NaN         NaN         NaN         NaN  \n",
       "62            NaN         NaN         NaN         NaN         NaN         NaN  "
      ]
     },
     "execution_count": 175,
     "metadata": {},
     "output_type": "execute_result"
    }
   ],
   "source": [
    "states"
   ]
  },
  {
   "cell_type": "code",
   "execution_count": 180,
   "metadata": {
    "collapsed": false
   },
   "outputs": [],
   "source": [
    "states = states.dropna()"
   ]
  },
  {
   "cell_type": "code",
   "execution_count": 181,
   "metadata": {
    "collapsed": false
   },
   "outputs": [],
   "source": [
    "states = states.rename(columns={\"Unnamed: 0\": \"State\"})"
   ]
  },
  {
   "cell_type": "code",
   "execution_count": 184,
   "metadata": {
    "collapsed": false
   },
   "outputs": [],
   "source": [
    "states.State = states.State.map(lambda name: name[1:] if name.startswith(\".\") else name)"
   ]
  },
  {
   "cell_type": "code",
   "execution_count": 185,
   "metadata": {
    "collapsed": false
   },
   "outputs": [
    {
     "data": {
      "text/html": [
       "<div style=\"max-height:1000px;max-width:1500px;overflow:auto;\">\n",
       "<table border=\"1\" class=\"dataframe\">\n",
       "  <thead>\n",
       "    <tr style=\"text-align: right;\">\n",
       "      <th></th>\n",
       "      <th>State</th>\n",
       "      <th>Census</th>\n",
       "      <th>Estimates Base</th>\n",
       "      <th>2010</th>\n",
       "      <th>2011</th>\n",
       "      <th>2012</th>\n",
       "      <th>2013</th>\n",
       "      <th>2014</th>\n",
       "    </tr>\n",
       "  </thead>\n",
       "  <tbody>\n",
       "    <tr>\n",
       "      <th>5</th>\n",
       "      <td>Alabama</td>\n",
       "      <td>4,779,736</td>\n",
       "      <td>4,780,127</td>\n",
       "      <td>4,785,822</td>\n",
       "      <td>4,801,695</td>\n",
       "      <td>4,817,484</td>\n",
       "      <td>4,833,996</td>\n",
       "      <td>4,849,377</td>\n",
       "    </tr>\n",
       "    <tr>\n",
       "      <th>6</th>\n",
       "      <td>Alaska</td>\n",
       "      <td>710,231</td>\n",
       "      <td>710,249</td>\n",
       "      <td>713,856</td>\n",
       "      <td>722,572</td>\n",
       "      <td>731,081</td>\n",
       "      <td>737,259</td>\n",
       "      <td>736,732</td>\n",
       "    </tr>\n",
       "    <tr>\n",
       "      <th>7</th>\n",
       "      <td>Arizona</td>\n",
       "      <td>6,392,017</td>\n",
       "      <td>6,392,310</td>\n",
       "      <td>6,411,999</td>\n",
       "      <td>6,472,867</td>\n",
       "      <td>6,556,236</td>\n",
       "      <td>6,634,997</td>\n",
       "      <td>6,731,484</td>\n",
       "    </tr>\n",
       "    <tr>\n",
       "      <th>8</th>\n",
       "      <td>Arkansas</td>\n",
       "      <td>2,915,918</td>\n",
       "      <td>2,915,958</td>\n",
       "      <td>2,922,297</td>\n",
       "      <td>2,938,430</td>\n",
       "      <td>2,949,300</td>\n",
       "      <td>2,958,765</td>\n",
       "      <td>2,966,369</td>\n",
       "    </tr>\n",
       "    <tr>\n",
       "      <th>9</th>\n",
       "      <td>California</td>\n",
       "      <td>37,253,956</td>\n",
       "      <td>37,254,503</td>\n",
       "      <td>37,336,011</td>\n",
       "      <td>37,701,901</td>\n",
       "      <td>38,062,780</td>\n",
       "      <td>38,431,393</td>\n",
       "      <td>38,802,500</td>\n",
       "    </tr>\n",
       "  </tbody>\n",
       "</table>\n",
       "</div>"
      ],
      "text/plain": [
       "        State      Census Estimates Base        2010        2011        2012  \\\n",
       "5     Alabama   4,779,736      4,780,127   4,785,822   4,801,695   4,817,484   \n",
       "6      Alaska     710,231        710,249     713,856     722,572     731,081   \n",
       "7     Arizona   6,392,017      6,392,310   6,411,999   6,472,867   6,556,236   \n",
       "8    Arkansas   2,915,918      2,915,958   2,922,297   2,938,430   2,949,300   \n",
       "9  California  37,253,956     37,254,503  37,336,011  37,701,901  38,062,780   \n",
       "\n",
       "         2013        2014  \n",
       "5   4,833,996   4,849,377  \n",
       "6     737,259     736,732  \n",
       "7   6,634,997   6,731,484  \n",
       "8   2,958,765   2,966,369  \n",
       "9  38,431,393  38,802,500  "
      ]
     },
     "execution_count": 185,
     "metadata": {},
     "output_type": "execute_result"
    }
   ],
   "source": [
    "states.head()"
   ]
  },
  {
   "cell_type": "code",
   "execution_count": 186,
   "metadata": {
    "collapsed": true
   },
   "outputs": [],
   "source": [
    "state_abbr = {\n",
    "        'AK': 'Alaska',\n",
    "        'AL': 'Alabama',\n",
    "        'AR': 'Arkansas',\n",
    "        'AS': 'American Samoa',\n",
    "        'AZ': 'Arizona',\n",
    "        'CA': 'California',\n",
    "        'CO': 'Colorado',\n",
    "        'CT': 'Connecticut',\n",
    "        'DC': 'District of Columbia',\n",
    "        'DE': 'Delaware',\n",
    "        'FL': 'Florida',\n",
    "        'GA': 'Georgia',\n",
    "        'GU': 'Guam',\n",
    "        'HI': 'Hawaii',\n",
    "        'IA': 'Iowa',\n",
    "        'ID': 'Idaho',\n",
    "        'IL': 'Illinois',\n",
    "        'IN': 'Indiana',\n",
    "        'KS': 'Kansas',\n",
    "        'KY': 'Kentucky',\n",
    "        'LA': 'Louisiana',\n",
    "        'MA': 'Massachusetts',\n",
    "        'MD': 'Maryland',\n",
    "        'ME': 'Maine',\n",
    "        'MI': 'Michigan',\n",
    "        'MN': 'Minnesota',\n",
    "        'MO': 'Missouri',\n",
    "        'MP': 'Northern Mariana Islands',\n",
    "        'MS': 'Mississippi',\n",
    "        'MT': 'Montana',\n",
    "        'NA': 'National',\n",
    "        'NC': 'North Carolina',\n",
    "        'ND': 'North Dakota',\n",
    "        'NE': 'Nebraska',\n",
    "        'NH': 'New Hampshire',\n",
    "        'NJ': 'New Jersey',\n",
    "        'NM': 'New Mexico',\n",
    "        'NV': 'Nevada',\n",
    "        'NY': 'New York',\n",
    "        'OH': 'Ohio',\n",
    "        'OK': 'Oklahoma',\n",
    "        'OR': 'Oregon',\n",
    "        'PA': 'Pennsylvania',\n",
    "        'PR': 'Puerto Rico',\n",
    "        'RI': 'Rhode Island',\n",
    "        'SC': 'South Carolina',\n",
    "        'SD': 'South Dakota',\n",
    "        'TN': 'Tennessee',\n",
    "        'TX': 'Texas',\n",
    "        'UT': 'Utah',\n",
    "        'VA': 'Virginia',\n",
    "        'VI': 'Virgin Islands',\n",
    "        'VT': 'Vermont',\n",
    "        'WA': 'Washington',\n",
    "        'WI': 'Wisconsin',\n",
    "        'WV': 'West Virginia',\n",
    "        'WY': 'Wyoming'\n",
    "}"
   ]
  },
  {
   "cell_type": "code",
   "execution_count": 187,
   "metadata": {
    "collapsed": true
   },
   "outputs": [],
   "source": [
    "state_to_abbr = {value: key for key, value in state_abbr.items()}"
   ]
  },
  {
   "cell_type": "code",
   "execution_count": 188,
   "metadata": {
    "collapsed": false
   },
   "outputs": [
    {
     "data": {
      "text/plain": [
       "{'Alabama': 'AL',\n",
       " 'Alaska': 'AK',\n",
       " 'American Samoa': 'AS',\n",
       " 'Arizona': 'AZ',\n",
       " 'Arkansas': 'AR',\n",
       " 'California': 'CA',\n",
       " 'Colorado': 'CO',\n",
       " 'Connecticut': 'CT',\n",
       " 'Delaware': 'DE',\n",
       " 'District of Columbia': 'DC',\n",
       " 'Florida': 'FL',\n",
       " 'Georgia': 'GA',\n",
       " 'Guam': 'GU',\n",
       " 'Hawaii': 'HI',\n",
       " 'Idaho': 'ID',\n",
       " 'Illinois': 'IL',\n",
       " 'Indiana': 'IN',\n",
       " 'Iowa': 'IA',\n",
       " 'Kansas': 'KS',\n",
       " 'Kentucky': 'KY',\n",
       " 'Louisiana': 'LA',\n",
       " 'Maine': 'ME',\n",
       " 'Maryland': 'MD',\n",
       " 'Massachusetts': 'MA',\n",
       " 'Michigan': 'MI',\n",
       " 'Minnesota': 'MN',\n",
       " 'Mississippi': 'MS',\n",
       " 'Missouri': 'MO',\n",
       " 'Montana': 'MT',\n",
       " 'National': 'NA',\n",
       " 'Nebraska': 'NE',\n",
       " 'Nevada': 'NV',\n",
       " 'New Hampshire': 'NH',\n",
       " 'New Jersey': 'NJ',\n",
       " 'New Mexico': 'NM',\n",
       " 'New York': 'NY',\n",
       " 'North Carolina': 'NC',\n",
       " 'North Dakota': 'ND',\n",
       " 'Northern Mariana Islands': 'MP',\n",
       " 'Ohio': 'OH',\n",
       " 'Oklahoma': 'OK',\n",
       " 'Oregon': 'OR',\n",
       " 'Pennsylvania': 'PA',\n",
       " 'Puerto Rico': 'PR',\n",
       " 'Rhode Island': 'RI',\n",
       " 'South Carolina': 'SC',\n",
       " 'South Dakota': 'SD',\n",
       " 'Tennessee': 'TN',\n",
       " 'Texas': 'TX',\n",
       " 'Utah': 'UT',\n",
       " 'Vermont': 'VT',\n",
       " 'Virgin Islands': 'VI',\n",
       " 'Virginia': 'VA',\n",
       " 'Washington': 'WA',\n",
       " 'West Virginia': 'WV',\n",
       " 'Wisconsin': 'WI',\n",
       " 'Wyoming': 'WY'}"
      ]
     },
     "execution_count": 188,
     "metadata": {},
     "output_type": "execute_result"
    }
   ],
   "source": [
    "state_to_abbr"
   ]
  },
  {
   "cell_type": "code",
   "execution_count": 192,
   "metadata": {
    "collapsed": false
   },
   "outputs": [],
   "source": [
    "states.State = states.State.map(state_to_abbr)"
   ]
  },
  {
   "cell_type": "code",
   "execution_count": 193,
   "metadata": {
    "collapsed": false
   },
   "outputs": [
    {
     "data": {
      "text/html": [
       "<div style=\"max-height:1000px;max-width:1500px;overflow:auto;\">\n",
       "<table border=\"1\" class=\"dataframe\">\n",
       "  <thead>\n",
       "    <tr style=\"text-align: right;\">\n",
       "      <th></th>\n",
       "      <th>State</th>\n",
       "      <th>Census</th>\n",
       "      <th>Estimates Base</th>\n",
       "      <th>2010</th>\n",
       "      <th>2011</th>\n",
       "      <th>2012</th>\n",
       "      <th>2013</th>\n",
       "      <th>2014</th>\n",
       "    </tr>\n",
       "  </thead>\n",
       "  <tbody>\n",
       "    <tr>\n",
       "      <th>5</th>\n",
       "      <td>AL</td>\n",
       "      <td>4,779,736</td>\n",
       "      <td>4,780,127</td>\n",
       "      <td>4,785,822</td>\n",
       "      <td>4,801,695</td>\n",
       "      <td>4,817,484</td>\n",
       "      <td>4,833,996</td>\n",
       "      <td>4,849,377</td>\n",
       "    </tr>\n",
       "    <tr>\n",
       "      <th>6</th>\n",
       "      <td>AK</td>\n",
       "      <td>710,231</td>\n",
       "      <td>710,249</td>\n",
       "      <td>713,856</td>\n",
       "      <td>722,572</td>\n",
       "      <td>731,081</td>\n",
       "      <td>737,259</td>\n",
       "      <td>736,732</td>\n",
       "    </tr>\n",
       "    <tr>\n",
       "      <th>7</th>\n",
       "      <td>AZ</td>\n",
       "      <td>6,392,017</td>\n",
       "      <td>6,392,310</td>\n",
       "      <td>6,411,999</td>\n",
       "      <td>6,472,867</td>\n",
       "      <td>6,556,236</td>\n",
       "      <td>6,634,997</td>\n",
       "      <td>6,731,484</td>\n",
       "    </tr>\n",
       "    <tr>\n",
       "      <th>8</th>\n",
       "      <td>AR</td>\n",
       "      <td>2,915,918</td>\n",
       "      <td>2,915,958</td>\n",
       "      <td>2,922,297</td>\n",
       "      <td>2,938,430</td>\n",
       "      <td>2,949,300</td>\n",
       "      <td>2,958,765</td>\n",
       "      <td>2,966,369</td>\n",
       "    </tr>\n",
       "    <tr>\n",
       "      <th>9</th>\n",
       "      <td>CA</td>\n",
       "      <td>37,253,956</td>\n",
       "      <td>37,254,503</td>\n",
       "      <td>37,336,011</td>\n",
       "      <td>37,701,901</td>\n",
       "      <td>38,062,780</td>\n",
       "      <td>38,431,393</td>\n",
       "      <td>38,802,500</td>\n",
       "    </tr>\n",
       "  </tbody>\n",
       "</table>\n",
       "</div>"
      ],
      "text/plain": [
       "  State      Census Estimates Base        2010        2011        2012  \\\n",
       "5    AL   4,779,736      4,780,127   4,785,822   4,801,695   4,817,484   \n",
       "6    AK     710,231        710,249     713,856     722,572     731,081   \n",
       "7    AZ   6,392,017      6,392,310   6,411,999   6,472,867   6,556,236   \n",
       "8    AR   2,915,918      2,915,958   2,922,297   2,938,430   2,949,300   \n",
       "9    CA  37,253,956     37,254,503  37,336,011  37,701,901  38,062,780   \n",
       "\n",
       "         2013        2014  \n",
       "5   4,833,996   4,849,377  \n",
       "6     737,259     736,732  \n",
       "7   6,634,997   6,731,484  \n",
       "8   2,958,765   2,966,369  \n",
       "9  38,431,393  38,802,500  "
      ]
     },
     "execution_count": 193,
     "metadata": {},
     "output_type": "execute_result"
    }
   ],
   "source": [
    "states.head()"
   ]
  },
  {
   "cell_type": "code",
   "execution_count": 196,
   "metadata": {
    "collapsed": true
   },
   "outputs": [],
   "source": [
    "states.index = states.State"
   ]
  },
  {
   "cell_type": "code",
   "execution_count": 197,
   "metadata": {
    "collapsed": false
   },
   "outputs": [
    {
     "data": {
      "text/html": [
       "<div style=\"max-height:1000px;max-width:1500px;overflow:auto;\">\n",
       "<table border=\"1\" class=\"dataframe\">\n",
       "  <thead>\n",
       "    <tr style=\"text-align: right;\">\n",
       "      <th></th>\n",
       "      <th>State</th>\n",
       "      <th>Census</th>\n",
       "      <th>Estimates Base</th>\n",
       "      <th>2010</th>\n",
       "      <th>2011</th>\n",
       "      <th>2012</th>\n",
       "      <th>2013</th>\n",
       "      <th>2014</th>\n",
       "    </tr>\n",
       "    <tr>\n",
       "      <th>State</th>\n",
       "      <th></th>\n",
       "      <th></th>\n",
       "      <th></th>\n",
       "      <th></th>\n",
       "      <th></th>\n",
       "      <th></th>\n",
       "      <th></th>\n",
       "      <th></th>\n",
       "    </tr>\n",
       "  </thead>\n",
       "  <tbody>\n",
       "    <tr>\n",
       "      <th>AL</th>\n",
       "      <td>AL</td>\n",
       "      <td>4,779,736</td>\n",
       "      <td>4,780,127</td>\n",
       "      <td>4,785,822</td>\n",
       "      <td>4,801,695</td>\n",
       "      <td>4,817,484</td>\n",
       "      <td>4,833,996</td>\n",
       "      <td>4,849,377</td>\n",
       "    </tr>\n",
       "    <tr>\n",
       "      <th>AK</th>\n",
       "      <td>AK</td>\n",
       "      <td>710,231</td>\n",
       "      <td>710,249</td>\n",
       "      <td>713,856</td>\n",
       "      <td>722,572</td>\n",
       "      <td>731,081</td>\n",
       "      <td>737,259</td>\n",
       "      <td>736,732</td>\n",
       "    </tr>\n",
       "    <tr>\n",
       "      <th>AZ</th>\n",
       "      <td>AZ</td>\n",
       "      <td>6,392,017</td>\n",
       "      <td>6,392,310</td>\n",
       "      <td>6,411,999</td>\n",
       "      <td>6,472,867</td>\n",
       "      <td>6,556,236</td>\n",
       "      <td>6,634,997</td>\n",
       "      <td>6,731,484</td>\n",
       "    </tr>\n",
       "    <tr>\n",
       "      <th>AR</th>\n",
       "      <td>AR</td>\n",
       "      <td>2,915,918</td>\n",
       "      <td>2,915,958</td>\n",
       "      <td>2,922,297</td>\n",
       "      <td>2,938,430</td>\n",
       "      <td>2,949,300</td>\n",
       "      <td>2,958,765</td>\n",
       "      <td>2,966,369</td>\n",
       "    </tr>\n",
       "    <tr>\n",
       "      <th>CA</th>\n",
       "      <td>CA</td>\n",
       "      <td>37,253,956</td>\n",
       "      <td>37,254,503</td>\n",
       "      <td>37,336,011</td>\n",
       "      <td>37,701,901</td>\n",
       "      <td>38,062,780</td>\n",
       "      <td>38,431,393</td>\n",
       "      <td>38,802,500</td>\n",
       "    </tr>\n",
       "  </tbody>\n",
       "</table>\n",
       "</div>"
      ],
      "text/plain": [
       "      State      Census Estimates Base        2010        2011        2012  \\\n",
       "State                                                                        \n",
       "AL       AL   4,779,736      4,780,127   4,785,822   4,801,695   4,817,484   \n",
       "AK       AK     710,231        710,249     713,856     722,572     731,081   \n",
       "AZ       AZ   6,392,017      6,392,310   6,411,999   6,472,867   6,556,236   \n",
       "AR       AR   2,915,918      2,915,958   2,922,297   2,938,430   2,949,300   \n",
       "CA       CA  37,253,956     37,254,503  37,336,011  37,701,901  38,062,780   \n",
       "\n",
       "             2013        2014  \n",
       "State                          \n",
       "AL      4,833,996   4,849,377  \n",
       "AK        737,259     736,732  \n",
       "AZ      6,634,997   6,731,484  \n",
       "AR      2,958,765   2,966,369  \n",
       "CA     38,431,393  38,802,500  "
      ]
     },
     "execution_count": 197,
     "metadata": {},
     "output_type": "execute_result"
    }
   ],
   "source": [
    "states.head()"
   ]
  },
  {
   "cell_type": "code",
   "execution_count": 198,
   "metadata": {
    "collapsed": true
   },
   "outputs": [],
   "source": [
    "states_2014 = states['2014']"
   ]
  },
  {
   "cell_type": "code",
   "execution_count": 199,
   "metadata": {
    "collapsed": false
   },
   "outputs": [
    {
     "data": {
      "text/plain": [
       "State\n",
       "AL     4,849,377\n",
       "AK       736,732\n",
       "AZ     6,731,484\n",
       "AR     2,966,369\n",
       "CA    38,802,500\n",
       "Name: 2014, dtype: object"
      ]
     },
     "execution_count": 199,
     "metadata": {},
     "output_type": "execute_result"
    }
   ],
   "source": [
    "states_2014.head()"
   ]
  },
  {
   "cell_type": "code",
   "execution_count": 200,
   "metadata": {
    "collapsed": false
   },
   "outputs": [
    {
     "data": {
      "text/plain": [
       "AA      10\n",
       "AE     147\n",
       "AK     478\n",
       "AL    3842\n",
       "AP     113\n",
       "dtype: int64"
      ]
     },
     "execution_count": 200,
     "metadata": {},
     "output_type": "execute_result"
    }
   ],
   "source": [
    "state_data.head()"
   ]
  },
  {
   "cell_type": "code",
   "execution_count": 201,
   "metadata": {
    "collapsed": false
   },
   "outputs": [
    {
     "ename": "AttributeError",
     "evalue": "'Series' object has no attribute 'join'",
     "output_type": "error",
     "traceback": [
      "\u001b[0;31m---------------------------------------------------------------------------\u001b[0m",
      "\u001b[0;31mAttributeError\u001b[0m                            Traceback (most recent call last)",
      "\u001b[0;32m<ipython-input-201-ea31a706b429>\u001b[0m in \u001b[0;36m<module>\u001b[0;34m()\u001b[0m\n\u001b[0;32m----> 1\u001b[0;31m \u001b[0mstate_data\u001b[0m\u001b[0;34m.\u001b[0m\u001b[0mjoin\u001b[0m\u001b[0;34m(\u001b[0m\u001b[0mstates_2014\u001b[0m\u001b[0;34m)\u001b[0m\u001b[0;34m\u001b[0m\u001b[0m\n\u001b[0m",
      "\u001b[0;32m/Users/joshuahiggins/tiyd/homework/complaints/consumer-complaints/.direnv/python-3.4.3/lib/python3.4/site-packages/pandas/core/generic.py\u001b[0m in \u001b[0;36m__getattr__\u001b[0;34m(self, name)\u001b[0m\n\u001b[1;32m   2081\u001b[0m                 \u001b[0;32mreturn\u001b[0m \u001b[0mself\u001b[0m\u001b[0;34m[\u001b[0m\u001b[0mname\u001b[0m\u001b[0;34m]\u001b[0m\u001b[0;34m\u001b[0m\u001b[0m\n\u001b[1;32m   2082\u001b[0m             raise AttributeError(\"'%s' object has no attribute '%s'\" %\n\u001b[0;32m-> 2083\u001b[0;31m                                  (type(self).__name__, name))\n\u001b[0m\u001b[1;32m   2084\u001b[0m \u001b[0;34m\u001b[0m\u001b[0m\n\u001b[1;32m   2085\u001b[0m     \u001b[0;32mdef\u001b[0m \u001b[0m__setattr__\u001b[0m\u001b[0;34m(\u001b[0m\u001b[0mself\u001b[0m\u001b[0;34m,\u001b[0m \u001b[0mname\u001b[0m\u001b[0;34m,\u001b[0m \u001b[0mvalue\u001b[0m\u001b[0;34m)\u001b[0m\u001b[0;34m:\u001b[0m\u001b[0;34m\u001b[0m\u001b[0m\n",
      "\u001b[0;31mAttributeError\u001b[0m: 'Series' object has no attribute 'join'"
     ]
    }
   ],
   "source": [
    "state_data.join(states_2014)"
   ]
  },
  {
   "cell_type": "code",
   "execution_count": 206,
   "metadata": {
    "collapsed": false
   },
   "outputs": [],
   "source": [
    "state_data = state_data.to_frame(name=\"complaints\")"
   ]
  },
  {
   "cell_type": "code",
   "execution_count": 207,
   "metadata": {
    "collapsed": true
   },
   "outputs": [],
   "source": [
    "states_2014 = states_2014.to_frame(name=\"population\")"
   ]
  },
  {
   "cell_type": "code",
   "execution_count": 209,
   "metadata": {
    "collapsed": false
   },
   "outputs": [],
   "source": [
    "state_data = state_data.join(states_2014)"
   ]
  },
  {
   "cell_type": "code",
   "execution_count": 211,
   "metadata": {
    "collapsed": false
   },
   "outputs": [],
   "source": [
    "state_data = state_data.dropna()"
   ]
  },
  {
   "cell_type": "code",
   "execution_count": 212,
   "metadata": {
    "collapsed": false
   },
   "outputs": [
    {
     "data": {
      "text/html": [
       "<div style=\"max-height:1000px;max-width:1500px;overflow:auto;\">\n",
       "<table border=\"1\" class=\"dataframe\">\n",
       "  <thead>\n",
       "    <tr style=\"text-align: right;\">\n",
       "      <th></th>\n",
       "      <th>complaints</th>\n",
       "      <th>population</th>\n",
       "    </tr>\n",
       "  </thead>\n",
       "  <tbody>\n",
       "    <tr>\n",
       "      <th>AK</th>\n",
       "      <td>478</td>\n",
       "      <td>736,732</td>\n",
       "    </tr>\n",
       "    <tr>\n",
       "      <th>AL</th>\n",
       "      <td>3842</td>\n",
       "      <td>4,849,377</td>\n",
       "    </tr>\n",
       "    <tr>\n",
       "      <th>AR</th>\n",
       "      <td>1670</td>\n",
       "      <td>2,966,369</td>\n",
       "    </tr>\n",
       "    <tr>\n",
       "      <th>AZ</th>\n",
       "      <td>8678</td>\n",
       "      <td>6,731,484</td>\n",
       "    </tr>\n",
       "    <tr>\n",
       "      <th>CA</th>\n",
       "      <td>58603</td>\n",
       "      <td>38,802,500</td>\n",
       "    </tr>\n",
       "  </tbody>\n",
       "</table>\n",
       "</div>"
      ],
      "text/plain": [
       "    complaints  population\n",
       "AK         478     736,732\n",
       "AL        3842   4,849,377\n",
       "AR        1670   2,966,369\n",
       "AZ        8678   6,731,484\n",
       "CA       58603  38,802,500"
      ]
     },
     "execution_count": 212,
     "metadata": {},
     "output_type": "execute_result"
    }
   ],
   "source": [
    "state_data.head()"
   ]
  },
  {
   "cell_type": "code",
   "execution_count": 213,
   "metadata": {
    "collapsed": false
   },
   "outputs": [
    {
     "ename": "TypeError",
     "evalue": "unsupported operand type(s) for /: 'int' and 'str'",
     "output_type": "error",
     "traceback": [
      "\u001b[0;31m---------------------------------------------------------------------------\u001b[0m",
      "\u001b[0;31mTypeError\u001b[0m                                 Traceback (most recent call last)",
      "\u001b[0;32m/Users/joshuahiggins/tiyd/homework/complaints/consumer-complaints/.direnv/python-3.4.3/lib/python3.4/site-packages/pandas/core/ops.py\u001b[0m in \u001b[0;36mna_op\u001b[0;34m(x, y)\u001b[0m\n\u001b[1;32m    468\u001b[0m             result = expressions.evaluate(op, str_rep, x, y,\n\u001b[0;32m--> 469\u001b[0;31m                                           raise_on_error=True, **eval_kwargs)\n\u001b[0m\u001b[1;32m    470\u001b[0m         \u001b[0;32mexcept\u001b[0m \u001b[0mTypeError\u001b[0m\u001b[0;34m:\u001b[0m\u001b[0;34m\u001b[0m\u001b[0m\n",
      "\u001b[0;32m/Users/joshuahiggins/tiyd/homework/complaints/consumer-complaints/.direnv/python-3.4.3/lib/python3.4/site-packages/pandas/computation/expressions.py\u001b[0m in \u001b[0;36mevaluate\u001b[0;34m(op, op_str, a, b, raise_on_error, use_numexpr, **eval_kwargs)\u001b[0m\n\u001b[1;32m    217\u001b[0m         return _evaluate(op, op_str, a, b, raise_on_error=raise_on_error,\n\u001b[0;32m--> 218\u001b[0;31m                          **eval_kwargs)\n\u001b[0m\u001b[1;32m    219\u001b[0m     \u001b[0;32mreturn\u001b[0m \u001b[0m_evaluate_standard\u001b[0m\u001b[0;34m(\u001b[0m\u001b[0mop\u001b[0m\u001b[0;34m,\u001b[0m \u001b[0mop_str\u001b[0m\u001b[0;34m,\u001b[0m \u001b[0ma\u001b[0m\u001b[0;34m,\u001b[0m \u001b[0mb\u001b[0m\u001b[0;34m,\u001b[0m \u001b[0mraise_on_error\u001b[0m\u001b[0;34m=\u001b[0m\u001b[0mraise_on_error\u001b[0m\u001b[0;34m)\u001b[0m\u001b[0;34m\u001b[0m\u001b[0m\n",
      "\u001b[0;32m/Users/joshuahiggins/tiyd/homework/complaints/consumer-complaints/.direnv/python-3.4.3/lib/python3.4/site-packages/pandas/computation/expressions.py\u001b[0m in \u001b[0;36m_evaluate_standard\u001b[0;34m(op, op_str, a, b, raise_on_error, **eval_kwargs)\u001b[0m\n\u001b[1;32m     70\u001b[0m         \u001b[0m_store_test_result\u001b[0m\u001b[0;34m(\u001b[0m\u001b[0;32mFalse\u001b[0m\u001b[0;34m)\u001b[0m\u001b[0;34m\u001b[0m\u001b[0m\n\u001b[0;32m---> 71\u001b[0;31m     \u001b[0;32mreturn\u001b[0m \u001b[0mop\u001b[0m\u001b[0;34m(\u001b[0m\u001b[0ma\u001b[0m\u001b[0;34m,\u001b[0m \u001b[0mb\u001b[0m\u001b[0;34m)\u001b[0m\u001b[0;34m\u001b[0m\u001b[0m\n\u001b[0m\u001b[1;32m     72\u001b[0m \u001b[0;34m\u001b[0m\u001b[0m\n",
      "\u001b[0;31mTypeError\u001b[0m: unsupported operand type(s) for /: 'int' and 'str'",
      "\nDuring handling of the above exception, another exception occurred:\n",
      "\u001b[0;31mTypeError\u001b[0m                                 Traceback (most recent call last)",
      "\u001b[0;32m<ipython-input-213-23d9d970b726>\u001b[0m in \u001b[0;36m<module>\u001b[0;34m()\u001b[0m\n\u001b[0;32m----> 1\u001b[0;31m \u001b[0mstate_data\u001b[0m\u001b[0;34m[\u001b[0m\u001b[0;34m'per_capita'\u001b[0m\u001b[0;34m]\u001b[0m \u001b[0;34m=\u001b[0m \u001b[0mstate_data\u001b[0m\u001b[0;34m.\u001b[0m\u001b[0mcomplaints\u001b[0m \u001b[0;34m/\u001b[0m \u001b[0mstate_data\u001b[0m\u001b[0;34m.\u001b[0m\u001b[0mpopulation\u001b[0m \u001b[0;34m*\u001b[0m \u001b[0;36m10000\u001b[0m\u001b[0;34m\u001b[0m\u001b[0m\n\u001b[0m",
      "\u001b[0;32m/Users/joshuahiggins/tiyd/homework/complaints/consumer-complaints/.direnv/python-3.4.3/lib/python3.4/site-packages/pandas/core/ops.py\u001b[0m in \u001b[0;36mwrapper\u001b[0;34m(left, right, name)\u001b[0m\n\u001b[1;32m    522\u001b[0m                     \u001b[0mrvalues\u001b[0m \u001b[0;34m=\u001b[0m \u001b[0mcom\u001b[0m\u001b[0;34m.\u001b[0m\u001b[0mtake_1d\u001b[0m\u001b[0;34m(\u001b[0m\u001b[0mrvalues\u001b[0m\u001b[0;34m,\u001b[0m \u001b[0mridx\u001b[0m\u001b[0;34m)\u001b[0m\u001b[0;34m\u001b[0m\u001b[0m\n\u001b[1;32m    523\u001b[0m \u001b[0;34m\u001b[0m\u001b[0m\n\u001b[0;32m--> 524\u001b[0;31m             \u001b[0marr\u001b[0m \u001b[0;34m=\u001b[0m \u001b[0mna_op\u001b[0m\u001b[0;34m(\u001b[0m\u001b[0mlvalues\u001b[0m\u001b[0;34m,\u001b[0m \u001b[0mrvalues\u001b[0m\u001b[0;34m)\u001b[0m\u001b[0;34m\u001b[0m\u001b[0m\n\u001b[0m\u001b[1;32m    525\u001b[0m \u001b[0;34m\u001b[0m\u001b[0m\n\u001b[1;32m    526\u001b[0m             return left._constructor(wrap_results(arr), index=index,\n",
      "\u001b[0;32m/Users/joshuahiggins/tiyd/homework/complaints/consumer-complaints/.direnv/python-3.4.3/lib/python3.4/site-packages/pandas/core/ops.py\u001b[0m in \u001b[0;36mna_op\u001b[0;34m(x, y)\u001b[0m\n\u001b[1;32m    473\u001b[0m                 \u001b[0mresult\u001b[0m \u001b[0;34m=\u001b[0m \u001b[0mnp\u001b[0m\u001b[0;34m.\u001b[0m\u001b[0mempty\u001b[0m\u001b[0;34m(\u001b[0m\u001b[0mx\u001b[0m\u001b[0;34m.\u001b[0m\u001b[0msize\u001b[0m\u001b[0;34m,\u001b[0m \u001b[0mdtype\u001b[0m\u001b[0;34m=\u001b[0m\u001b[0mdtype\u001b[0m\u001b[0;34m)\u001b[0m\u001b[0;34m\u001b[0m\u001b[0m\n\u001b[1;32m    474\u001b[0m                 \u001b[0mmask\u001b[0m \u001b[0;34m=\u001b[0m \u001b[0mnotnull\u001b[0m\u001b[0;34m(\u001b[0m\u001b[0mx\u001b[0m\u001b[0;34m)\u001b[0m \u001b[0;34m&\u001b[0m \u001b[0mnotnull\u001b[0m\u001b[0;34m(\u001b[0m\u001b[0my\u001b[0m\u001b[0;34m)\u001b[0m\u001b[0;34m\u001b[0m\u001b[0m\n\u001b[0;32m--> 475\u001b[0;31m                 \u001b[0mresult\u001b[0m\u001b[0;34m[\u001b[0m\u001b[0mmask\u001b[0m\u001b[0;34m]\u001b[0m \u001b[0;34m=\u001b[0m \u001b[0mop\u001b[0m\u001b[0;34m(\u001b[0m\u001b[0mx\u001b[0m\u001b[0;34m[\u001b[0m\u001b[0mmask\u001b[0m\u001b[0;34m]\u001b[0m\u001b[0;34m,\u001b[0m \u001b[0m_values_from_object\u001b[0m\u001b[0;34m(\u001b[0m\u001b[0my\u001b[0m\u001b[0;34m[\u001b[0m\u001b[0mmask\u001b[0m\u001b[0;34m]\u001b[0m\u001b[0;34m)\u001b[0m\u001b[0;34m)\u001b[0m\u001b[0;34m\u001b[0m\u001b[0m\n\u001b[0m\u001b[1;32m    476\u001b[0m             \u001b[0;32melif\u001b[0m \u001b[0misinstance\u001b[0m\u001b[0;34m(\u001b[0m\u001b[0mx\u001b[0m\u001b[0;34m,\u001b[0m \u001b[0mnp\u001b[0m\u001b[0;34m.\u001b[0m\u001b[0mndarray\u001b[0m\u001b[0;34m)\u001b[0m\u001b[0;34m:\u001b[0m\u001b[0;34m\u001b[0m\u001b[0m\n\u001b[1;32m    477\u001b[0m                 \u001b[0mresult\u001b[0m \u001b[0;34m=\u001b[0m \u001b[0mnp\u001b[0m\u001b[0;34m.\u001b[0m\u001b[0mempty\u001b[0m\u001b[0;34m(\u001b[0m\u001b[0mlen\u001b[0m\u001b[0;34m(\u001b[0m\u001b[0mx\u001b[0m\u001b[0;34m)\u001b[0m\u001b[0;34m,\u001b[0m \u001b[0mdtype\u001b[0m\u001b[0;34m=\u001b[0m\u001b[0mx\u001b[0m\u001b[0;34m.\u001b[0m\u001b[0mdtype\u001b[0m\u001b[0;34m)\u001b[0m\u001b[0;34m\u001b[0m\u001b[0m\n",
      "\u001b[0;31mTypeError\u001b[0m: unsupported operand type(s) for /: 'int' and 'str'"
     ]
    }
   ],
   "source": [
    "state_data['per_capita'] = state_data.complaints / state_data.population * 10000 "
   ]
  },
  {
   "cell_type": "code",
   "execution_count": 214,
   "metadata": {
    "collapsed": false
   },
   "outputs": [
    {
     "ename": "ValueError",
     "evalue": "invalid literal for int() with base 10: '2,138'",
     "output_type": "error",
     "traceback": [
      "\u001b[0;31m---------------------------------------------------------------------------\u001b[0m",
      "\u001b[0;31mValueError\u001b[0m                                Traceback (most recent call last)",
      "\u001b[0;32m<ipython-input-214-71fc35080d81>\u001b[0m in \u001b[0;36m<module>\u001b[0;34m()\u001b[0m\n\u001b[0;32m----> 1\u001b[0;31m \u001b[0mint\u001b[0m\u001b[0;34m(\u001b[0m\u001b[0;34m'2,138'\u001b[0m\u001b[0;34m)\u001b[0m\u001b[0;34m\u001b[0m\u001b[0m\n\u001b[0m",
      "\u001b[0;31mValueError\u001b[0m: invalid literal for int() with base 10: '2,138'"
     ]
    }
   ],
   "source": [
    "int('2,138')"
   ]
  },
  {
   "cell_type": "code",
   "execution_count": 215,
   "metadata": {
    "collapsed": false
   },
   "outputs": [
    {
     "data": {
      "text/plain": [
       "'en_US.UTF-8'"
      ]
     },
     "execution_count": 215,
     "metadata": {},
     "output_type": "execute_result"
    }
   ],
   "source": [
    "# http://stackoverflow.com/questions/1779288/how-do-i-use-python-to-convert-a-string-to-a-number-if-it-has-commas-in-it-as-th\n",
    "import locale\n",
    "locale.setlocale(locale.LC_ALL, 'en_US.UTF-8') "
   ]
  },
  {
   "cell_type": "code",
   "execution_count": 216,
   "metadata": {
    "collapsed": true
   },
   "outputs": [],
   "source": [
    "state_data.population = state_data.population.map(locale.atoi)"
   ]
  },
  {
   "cell_type": "code",
   "execution_count": 217,
   "metadata": {
    "collapsed": false
   },
   "outputs": [
    {
     "data": {
      "text/html": [
       "<div style=\"max-height:1000px;max-width:1500px;overflow:auto;\">\n",
       "<table border=\"1\" class=\"dataframe\">\n",
       "  <thead>\n",
       "    <tr style=\"text-align: right;\">\n",
       "      <th></th>\n",
       "      <th>complaints</th>\n",
       "      <th>population</th>\n",
       "    </tr>\n",
       "  </thead>\n",
       "  <tbody>\n",
       "    <tr>\n",
       "      <th>AK</th>\n",
       "      <td>478</td>\n",
       "      <td>736732</td>\n",
       "    </tr>\n",
       "    <tr>\n",
       "      <th>AL</th>\n",
       "      <td>3842</td>\n",
       "      <td>4849377</td>\n",
       "    </tr>\n",
       "    <tr>\n",
       "      <th>AR</th>\n",
       "      <td>1670</td>\n",
       "      <td>2966369</td>\n",
       "    </tr>\n",
       "    <tr>\n",
       "      <th>AZ</th>\n",
       "      <td>8678</td>\n",
       "      <td>6731484</td>\n",
       "    </tr>\n",
       "    <tr>\n",
       "      <th>CA</th>\n",
       "      <td>58603</td>\n",
       "      <td>38802500</td>\n",
       "    </tr>\n",
       "  </tbody>\n",
       "</table>\n",
       "</div>"
      ],
      "text/plain": [
       "    complaints  population\n",
       "AK         478      736732\n",
       "AL        3842     4849377\n",
       "AR        1670     2966369\n",
       "AZ        8678     6731484\n",
       "CA       58603    38802500"
      ]
     },
     "execution_count": 217,
     "metadata": {},
     "output_type": "execute_result"
    }
   ],
   "source": [
    "state_data.head()"
   ]
  },
  {
   "cell_type": "code",
   "execution_count": 218,
   "metadata": {
    "collapsed": true
   },
   "outputs": [],
   "source": [
    "state_data['per_capita'] = state_data.complaints / state_data.population * 10000 "
   ]
  },
  {
   "cell_type": "code",
   "execution_count": 219,
   "metadata": {
    "collapsed": false
   },
   "outputs": [
    {
     "data": {
      "text/html": [
       "<div style=\"max-height:1000px;max-width:1500px;overflow:auto;\">\n",
       "<table border=\"1\" class=\"dataframe\">\n",
       "  <thead>\n",
       "    <tr style=\"text-align: right;\">\n",
       "      <th></th>\n",
       "      <th>complaints</th>\n",
       "      <th>population</th>\n",
       "      <th>per_capita</th>\n",
       "    </tr>\n",
       "  </thead>\n",
       "  <tbody>\n",
       "    <tr>\n",
       "      <th>AK</th>\n",
       "      <td>478</td>\n",
       "      <td>736732</td>\n",
       "      <td>6.488112</td>\n",
       "    </tr>\n",
       "    <tr>\n",
       "      <th>AL</th>\n",
       "      <td>3842</td>\n",
       "      <td>4849377</td>\n",
       "      <td>7.922667</td>\n",
       "    </tr>\n",
       "    <tr>\n",
       "      <th>AR</th>\n",
       "      <td>1670</td>\n",
       "      <td>2966369</td>\n",
       "      <td>5.629778</td>\n",
       "    </tr>\n",
       "    <tr>\n",
       "      <th>AZ</th>\n",
       "      <td>8678</td>\n",
       "      <td>6731484</td>\n",
       "      <td>12.891660</td>\n",
       "    </tr>\n",
       "    <tr>\n",
       "      <th>CA</th>\n",
       "      <td>58603</td>\n",
       "      <td>38802500</td>\n",
       "      <td>15.102893</td>\n",
       "    </tr>\n",
       "  </tbody>\n",
       "</table>\n",
       "</div>"
      ],
      "text/plain": [
       "    complaints  population  per_capita\n",
       "AK         478      736732    6.488112\n",
       "AL        3842     4849377    7.922667\n",
       "AR        1670     2966369    5.629778\n",
       "AZ        8678     6731484   12.891660\n",
       "CA       58603    38802500   15.102893"
      ]
     },
     "execution_count": 219,
     "metadata": {},
     "output_type": "execute_result"
    }
   ],
   "source": [
    "state_data.head()"
   ]
  },
  {
   "cell_type": "code",
   "execution_count": null,
   "metadata": {
    "collapsed": true
   },
   "outputs": [],
   "source": [
    "com"
   ]
  },
  {
   "cell_type": "code",
   "execution_count": 220,
   "metadata": {
    "collapsed": true
   },
   "outputs": [],
   "source": [
    "state_data_per_cap = state_data['per_capita']"
   ]
  },
  {
   "cell_type": "code",
   "execution_count": 223,
   "metadata": {
    "collapsed": false
   },
   "outputs": [
    {
     "data": {
      "text/plain": [
       "<matplotlib.axes._subplots.AxesSubplot at 0x11b02f438>"
      ]
     },
     "execution_count": 223,
     "metadata": {},
     "output_type": "execute_result"
    },
    {
     "data": {
      "image/png": "[encoded data removed]",
      "text/plain": [
       "<matplotlib.figure.Figure at 0x11b4eed30>"
      ]
     },
     "metadata": {},
     "output_type": "display_data"
    }
   ],
   "source": [
    "plt.figure(figsize=(12, 10))\n",
    "state_data_per_cap.plot(kind='bar', title=\"Complaints per 10,000 Residents\")"
   ]
  },
  {
   "cell_type": "code",
   "execution_count": 227,
   "metadata": {
    "collapsed": false
   },
   "outputs": [
    {
     "ename": "ImportError",
     "evalue": "No module named 'mpl_toolkits.basemap'",
     "output_type": "error",
     "traceback": [
      "\u001b[0;31m---------------------------------------------------------------------------\u001b[0m",
      "\u001b[0;31mImportError\u001b[0m                               Traceback (most recent call last)",
      "\u001b[0;32m<ipython-input-227-a3c4269e4e3e>\u001b[0m in \u001b[0;36m<module>\u001b[0;34m()\u001b[0m\n\u001b[0;32m----> 1\u001b[0;31m \u001b[0;32mfrom\u001b[0m \u001b[0mmpl_toolkits\u001b[0m\u001b[0;34m.\u001b[0m\u001b[0mbasemap\u001b[0m \u001b[0;32mimport\u001b[0m \u001b[0mBasemap\u001b[0m\u001b[0;34m\u001b[0m\u001b[0m\n\u001b[0m\u001b[1;32m      2\u001b[0m \u001b[0;32mfrom\u001b[0m \u001b[0mmatplotlib\u001b[0m\u001b[0;34m.\u001b[0m\u001b[0mpatches\u001b[0m \u001b[0;32mimport\u001b[0m \u001b[0mPolygon\u001b[0m\u001b[0;34m\u001b[0m\u001b[0m\n",
      "\u001b[0;31mImportError\u001b[0m: No module named 'mpl_toolkits.basemap'"
     ]
    }
   ],
   "source": []
  },
  {
   "cell_type": "code",
   "execution_count": 258,
   "metadata": {
    "collapsed": true
   },
   "outputs": [],
   "source": [
    "zip_data = complaints_data.ZIP_code.value_counts().sort_index()"
   ]
  },
  {
   "cell_type": "code",
   "execution_count": 259,
   "metadata": {
    "collapsed": false
   },
   "outputs": [
    {
     "data": {
      "text/plain": [
       "1         1\n",
       "2         1\n",
       "5         1\n",
       "8         1\n",
       "9         1\n",
       "10       10\n",
       "11        6\n",
       "12        2\n",
       "14        2\n",
       "17        2\n",
       "18        1\n",
       "19        1\n",
       "20        5\n",
       "22        2\n",
       "23        1\n",
       "24        3\n",
       "26        1\n",
       "29        1\n",
       "32        1\n",
       "39        1\n",
       "41        1\n",
       "43        2\n",
       "49        1\n",
       "51        1\n",
       "52        1\n",
       "54        1\n",
       "55        1\n",
       "59        1\n",
       "60        1\n",
       "61        1\n",
       "         ..\n",
       "99701     7\n",
       "99703     6\n",
       "99705    10\n",
       "99708     5\n",
       "99709    12\n",
       "99712     9\n",
       "99714     1\n",
       "99723     1\n",
       "99727     1\n",
       "99731     1\n",
       "99752     2\n",
       "99755     1\n",
       "99762     3\n",
       "99776     1\n",
       "99778     1\n",
       "99780     1\n",
       "99801    23\n",
       "99802     3\n",
       "99803     3\n",
       "99804     1\n",
       "99821     1\n",
       "99826     1\n",
       "99827     2\n",
       "99833     1\n",
       "99835     4\n",
       "99841     1\n",
       "99901     7\n",
       "99925     1\n",
       "99926     1\n",
       "99999    17\n",
       "dtype: int64"
      ]
     },
     "execution_count": 259,
     "metadata": {},
     "output_type": "execute_result"
    }
   ],
   "source": [
    "zip_data"
   ]
  },
  {
   "cell_type": "code",
   "execution_count": 260,
   "metadata": {
    "collapsed": false
   },
   "outputs": [],
   "source": [
    "zips = pd.read_csv(\"2010+Census+Population+By+Zipcode+(ZCTA).csv\")"
   ]
  },
  {
   "cell_type": "code",
   "execution_count": 261,
   "metadata": {
    "collapsed": false
   },
   "outputs": [
    {
     "data": {
      "text/html": [
       "<div style=\"max-height:1000px;max-width:1500px;overflow:auto;\">\n",
       "<table border=\"1\" class=\"dataframe\">\n",
       "  <thead>\n",
       "    <tr style=\"text-align: right;\">\n",
       "      <th></th>\n",
       "      <th>Zip_Code_ZCTA</th>\n",
       "      <th>2010_Census_Population</th>\n",
       "    </tr>\n",
       "  </thead>\n",
       "  <tbody>\n",
       "    <tr>\n",
       "      <th>0</th>\n",
       "      <td>1001</td>\n",
       "      <td>16769</td>\n",
       "    </tr>\n",
       "    <tr>\n",
       "      <th>1</th>\n",
       "      <td>1002</td>\n",
       "      <td>29049</td>\n",
       "    </tr>\n",
       "    <tr>\n",
       "      <th>2</th>\n",
       "      <td>1003</td>\n",
       "      <td>10372</td>\n",
       "    </tr>\n",
       "    <tr>\n",
       "      <th>3</th>\n",
       "      <td>1005</td>\n",
       "      <td>5079</td>\n",
       "    </tr>\n",
       "    <tr>\n",
       "      <th>4</th>\n",
       "      <td>1007</td>\n",
       "      <td>14649</td>\n",
       "    </tr>\n",
       "  </tbody>\n",
       "</table>\n",
       "</div>"
      ],
      "text/plain": [
       "   Zip_Code_ZCTA  2010_Census_Population\n",
       "0           1001                   16769\n",
       "1           1002                   29049\n",
       "2           1003                   10372\n",
       "3           1005                    5079\n",
       "4           1007                   14649"
      ]
     },
     "execution_count": 261,
     "metadata": {},
     "output_type": "execute_result"
    }
   ],
   "source": [
    "zips = zips.rename(columns=lambda x: x.replace(' ', '_'))\n",
    "zips.head()\n"
   ]
  },
  {
   "cell_type": "code",
   "execution_count": 262,
   "metadata": {
    "collapsed": true
   },
   "outputs": [],
   "source": [
    "zips.index = zips.Zip_Code_ZCTA"
   ]
  },
  {
   "cell_type": "code",
   "execution_count": 265,
   "metadata": {
    "collapsed": false
   },
   "outputs": [
    {
     "data": {
      "text/html": [
       "<div style=\"max-height:1000px;max-width:1500px;overflow:auto;\">\n",
       "<table border=\"1\" class=\"dataframe\">\n",
       "  <thead>\n",
       "    <tr style=\"text-align: right;\">\n",
       "      <th></th>\n",
       "      <th>Zip_Code_ZCTA</th>\n",
       "      <th>2010_Census_Population</th>\n",
       "    </tr>\n",
       "    <tr>\n",
       "      <th>Zip_Code_ZCTA</th>\n",
       "      <th></th>\n",
       "      <th></th>\n",
       "    </tr>\n",
       "  </thead>\n",
       "  <tbody>\n",
       "    <tr>\n",
       "      <th>1001</th>\n",
       "      <td>1001</td>\n",
       "      <td>16769</td>\n",
       "    </tr>\n",
       "    <tr>\n",
       "      <th>1002</th>\n",
       "      <td>1002</td>\n",
       "      <td>29049</td>\n",
       "    </tr>\n",
       "    <tr>\n",
       "      <th>1003</th>\n",
       "      <td>1003</td>\n",
       "      <td>10372</td>\n",
       "    </tr>\n",
       "    <tr>\n",
       "      <th>1005</th>\n",
       "      <td>1005</td>\n",
       "      <td>5079</td>\n",
       "    </tr>\n",
       "    <tr>\n",
       "      <th>1007</th>\n",
       "      <td>1007</td>\n",
       "      <td>14649</td>\n",
       "    </tr>\n",
       "  </tbody>\n",
       "</table>\n",
       "</div>"
      ],
      "text/plain": [
       "               Zip_Code_ZCTA  2010_Census_Population\n",
       "Zip_Code_ZCTA                                       \n",
       "1001                    1001                   16769\n",
       "1002                    1002                   29049\n",
       "1003                    1003                   10372\n",
       "1005                    1005                    5079\n",
       "1007                    1007                   14649"
      ]
     },
     "execution_count": 265,
     "metadata": {},
     "output_type": "execute_result"
    }
   ],
   "source": [
    "zips.head()"
   ]
  },
  {
   "cell_type": "code",
   "execution_count": 266,
   "metadata": {
    "collapsed": true
   },
   "outputs": [],
   "source": [
    "zips = zips.rename(columns=lambda x: x.replace('2010_', ''))"
   ]
  },
  {
   "cell_type": "code",
   "execution_count": 268,
   "metadata": {
    "collapsed": false
   },
   "outputs": [
    {
     "data": {
      "text/plain": [
       "Zip_Code_ZCTA\n",
       "1001    16769\n",
       "1002    29049\n",
       "1003    10372\n",
       "1005     5079\n",
       "1007    14649\n",
       "Name: Census_Population, dtype: int64"
      ]
     },
     "execution_count": 268,
     "metadata": {},
     "output_type": "execute_result"
    }
   ],
   "source": [
    "zips = zips.Census_Population\n",
    "zips.head()"
   ]
  },
  {
   "cell_type": "code",
   "execution_count": 272,
   "metadata": {
    "collapsed": false
   },
   "outputs": [
    {
     "data": {
      "text/html": [
       "<div style=\"max-height:1000px;max-width:1500px;overflow:auto;\">\n",
       "<table border=\"1\" class=\"dataframe\">\n",
       "  <thead>\n",
       "    <tr style=\"text-align: right;\">\n",
       "      <th></th>\n",
       "      <th>population</th>\n",
       "    </tr>\n",
       "    <tr>\n",
       "      <th>Zip_Code_ZCTA</th>\n",
       "      <th></th>\n",
       "    </tr>\n",
       "  </thead>\n",
       "  <tbody>\n",
       "    <tr>\n",
       "      <th>1001</th>\n",
       "      <td>16769</td>\n",
       "    </tr>\n",
       "    <tr>\n",
       "      <th>1002</th>\n",
       "      <td>29049</td>\n",
       "    </tr>\n",
       "    <tr>\n",
       "      <th>1003</th>\n",
       "      <td>10372</td>\n",
       "    </tr>\n",
       "    <tr>\n",
       "      <th>1005</th>\n",
       "      <td>5079</td>\n",
       "    </tr>\n",
       "    <tr>\n",
       "      <th>1007</th>\n",
       "      <td>14649</td>\n",
       "    </tr>\n",
       "  </tbody>\n",
       "</table>\n",
       "</div>"
      ],
      "text/plain": [
       "               population\n",
       "Zip_Code_ZCTA            \n",
       "1001                16769\n",
       "1002                29049\n",
       "1003                10372\n",
       "1005                 5079\n",
       "1007                14649"
      ]
     },
     "execution_count": 272,
     "metadata": {},
     "output_type": "execute_result"
    }
   ],
   "source": [
    "zips.head()"
   ]
  },
  {
   "cell_type": "code",
   "execution_count": 274,
   "metadata": {
    "collapsed": false
   },
   "outputs": [
    {
     "data": {
      "text/html": [
       "<div style=\"max-height:1000px;max-width:1500px;overflow:auto;\">\n",
       "<table border=\"1\" class=\"dataframe\">\n",
       "  <thead>\n",
       "    <tr style=\"text-align: right;\">\n",
       "      <th></th>\n",
       "      <th>complaints</th>\n",
       "    </tr>\n",
       "  </thead>\n",
       "  <tbody>\n",
       "    <tr>\n",
       "      <th>1</th>\n",
       "      <td>1</td>\n",
       "    </tr>\n",
       "    <tr>\n",
       "      <th>2</th>\n",
       "      <td>1</td>\n",
       "    </tr>\n",
       "    <tr>\n",
       "      <th>5</th>\n",
       "      <td>1</td>\n",
       "    </tr>\n",
       "    <tr>\n",
       "      <th>8</th>\n",
       "      <td>1</td>\n",
       "    </tr>\n",
       "    <tr>\n",
       "      <th>9</th>\n",
       "      <td>1</td>\n",
       "    </tr>\n",
       "  </tbody>\n",
       "</table>\n",
       "</div>"
      ],
      "text/plain": [
       "   complaints\n",
       "1           1\n",
       "2           1\n",
       "5           1\n",
       "8           1\n",
       "9           1"
      ]
     },
     "execution_count": 274,
     "metadata": {},
     "output_type": "execute_result"
    }
   ],
   "source": [
    "zip_data.head()"
   ]
  },
  {
   "cell_type": "code",
   "execution_count": 275,
   "metadata": {
    "collapsed": true
   },
   "outputs": [],
   "source": [
    "zips_combined = zips.join(zip_data)"
   ]
  },
  {
   "cell_type": "code",
   "execution_count": 276,
   "metadata": {
    "collapsed": false
   },
   "outputs": [
    {
     "data": {
      "text/html": [
       "<div style=\"max-height:1000px;max-width:1500px;overflow:auto;\">\n",
       "<table border=\"1\" class=\"dataframe\">\n",
       "  <thead>\n",
       "    <tr style=\"text-align: right;\">\n",
       "      <th></th>\n",
       "      <th>population</th>\n",
       "      <th>complaints</th>\n",
       "    </tr>\n",
       "  </thead>\n",
       "  <tbody>\n",
       "    <tr>\n",
       "      <th>1001</th>\n",
       "      <td>16769</td>\n",
       "      <td>13</td>\n",
       "    </tr>\n",
       "    <tr>\n",
       "      <th>1002</th>\n",
       "      <td>29049</td>\n",
       "      <td>17</td>\n",
       "    </tr>\n",
       "    <tr>\n",
       "      <th>1003</th>\n",
       "      <td>10372</td>\n",
       "      <td>NaN</td>\n",
       "    </tr>\n",
       "    <tr>\n",
       "      <th>1005</th>\n",
       "      <td>5079</td>\n",
       "      <td>4</td>\n",
       "    </tr>\n",
       "    <tr>\n",
       "      <th>1007</th>\n",
       "      <td>14649</td>\n",
       "      <td>18</td>\n",
       "    </tr>\n",
       "  </tbody>\n",
       "</table>\n",
       "</div>"
      ],
      "text/plain": [
       "      population  complaints\n",
       "1001       16769          13\n",
       "1002       29049          17\n",
       "1003       10372         NaN\n",
       "1005        5079           4\n",
       "1007       14649          18"
      ]
     },
     "execution_count": 276,
     "metadata": {},
     "output_type": "execute_result"
    }
   ],
   "source": [
    "zips_combined.head()"
   ]
  },
  {
   "cell_type": "code",
   "execution_count": 277,
   "metadata": {
    "collapsed": false
   },
   "outputs": [],
   "source": [
    "zips_combined = zips_combined.dropna()"
   ]
  },
  {
   "cell_type": "code",
   "execution_count": 278,
   "metadata": {
    "collapsed": false
   },
   "outputs": [
    {
     "data": {
      "text/html": [
       "<div style=\"max-height:1000px;max-width:1500px;overflow:auto;\">\n",
       "<table border=\"1\" class=\"dataframe\">\n",
       "  <thead>\n",
       "    <tr style=\"text-align: right;\">\n",
       "      <th></th>\n",
       "      <th>population</th>\n",
       "      <th>complaints</th>\n",
       "    </tr>\n",
       "  </thead>\n",
       "  <tbody>\n",
       "    <tr>\n",
       "      <th>1001</th>\n",
       "      <td>16769</td>\n",
       "      <td>13</td>\n",
       "    </tr>\n",
       "    <tr>\n",
       "      <th>1002</th>\n",
       "      <td>29049</td>\n",
       "      <td>17</td>\n",
       "    </tr>\n",
       "    <tr>\n",
       "      <th>1005</th>\n",
       "      <td>5079</td>\n",
       "      <td>4</td>\n",
       "    </tr>\n",
       "    <tr>\n",
       "      <th>1007</th>\n",
       "      <td>14649</td>\n",
       "      <td>18</td>\n",
       "    </tr>\n",
       "    <tr>\n",
       "      <th>1008</th>\n",
       "      <td>1263</td>\n",
       "      <td>1</td>\n",
       "    </tr>\n",
       "  </tbody>\n",
       "</table>\n",
       "</div>"
      ],
      "text/plain": [
       "      population  complaints\n",
       "1001       16769          13\n",
       "1002       29049          17\n",
       "1005        5079           4\n",
       "1007       14649          18\n",
       "1008        1263           1"
      ]
     },
     "execution_count": 278,
     "metadata": {},
     "output_type": "execute_result"
    }
   ],
   "source": [
    "zips_combined.head()"
   ]
  },
  {
   "cell_type": "code",
   "execution_count": 281,
   "metadata": {
    "collapsed": false
   },
   "outputs": [],
   "source": [
    "zips_combined[\"per_capita\"] = zips_combined.complaints / zips_combined.population"
   ]
  },
  {
   "cell_type": "code",
   "execution_count": 282,
   "metadata": {
    "collapsed": false
   },
   "outputs": [
    {
     "data": {
      "text/html": [
       "<div style=\"max-height:1000px;max-width:1500px;overflow:auto;\">\n",
       "<table border=\"1\" class=\"dataframe\">\n",
       "  <thead>\n",
       "    <tr style=\"text-align: right;\">\n",
       "      <th></th>\n",
       "      <th>population</th>\n",
       "      <th>complaints</th>\n",
       "      <th>per_capita</th>\n",
       "    </tr>\n",
       "  </thead>\n",
       "  <tbody>\n",
       "    <tr>\n",
       "      <th>1001</th>\n",
       "      <td>16769</td>\n",
       "      <td>13</td>\n",
       "      <td>0.000775</td>\n",
       "    </tr>\n",
       "    <tr>\n",
       "      <th>1002</th>\n",
       "      <td>29049</td>\n",
       "      <td>17</td>\n",
       "      <td>0.000585</td>\n",
       "    </tr>\n",
       "    <tr>\n",
       "      <th>1005</th>\n",
       "      <td>5079</td>\n",
       "      <td>4</td>\n",
       "      <td>0.000788</td>\n",
       "    </tr>\n",
       "    <tr>\n",
       "      <th>1007</th>\n",
       "      <td>14649</td>\n",
       "      <td>18</td>\n",
       "      <td>0.001229</td>\n",
       "    </tr>\n",
       "    <tr>\n",
       "      <th>1008</th>\n",
       "      <td>1263</td>\n",
       "      <td>1</td>\n",
       "      <td>0.000792</td>\n",
       "    </tr>\n",
       "  </tbody>\n",
       "</table>\n",
       "</div>"
      ],
      "text/plain": [
       "      population  complaints  per_capita\n",
       "1001       16769          13    0.000775\n",
       "1002       29049          17    0.000585\n",
       "1005        5079           4    0.000788\n",
       "1007       14649          18    0.001229\n",
       "1008        1263           1    0.000792"
      ]
     },
     "execution_count": 282,
     "metadata": {},
     "output_type": "execute_result"
    }
   ],
   "source": [
    "zips_combined.head()"
   ]
  },
  {
   "cell_type": "markdown",
   "metadata": {},
   "source": [
    "find mean, find stdev of per_capita"
   ]
  },
  {
   "cell_type": "code",
   "execution_count": 283,
   "metadata": {
    "collapsed": false
   },
   "outputs": [
    {
     "data": {
      "text/plain": [
       "inf"
      ]
     },
     "execution_count": 283,
     "metadata": {},
     "output_type": "execute_result"
    }
   ],
   "source": []
  },
  {
   "cell_type": "code",
   "execution_count": null,
   "metadata": {
    "collapsed": true
   },
   "outputs": [],
   "source": []
  }
 ],
 "metadata": {
  "kernelspec": {
   "display_name": "Python 3",
   "language": "python",
   "name": "python3"
  },
  "language_info": {
   "codemirror_mode": {
    "name": "ipython",
    "version": 3
   },
   "file_extension": ".py",
   "mimetype": "text/x-python",
   "name": "python",
   "nbconvert_exporter": "python",
   "pygments_lexer": "ipython3",
   "version": "3.4.3"
  }
 },
 "nbformat": 4,
 "nbformat_minor": 0
}
